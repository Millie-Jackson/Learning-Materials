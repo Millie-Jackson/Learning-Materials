long_word = 'Pneumonoultramicroscopicsilicovolcanoconiosis'
first_c = len(long_word)
last_c = long_word[44]
print("Word:", long_word)
print("Characters:", first_c)
print("First Letter:", long_word[0] + " Last Letter:", last_c)
