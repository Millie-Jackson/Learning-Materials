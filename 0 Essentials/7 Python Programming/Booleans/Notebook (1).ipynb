{
  "cells": [
    {
      "cell_type": "markdown",
      "metadata": {
        "id": "T75zrF26ElGB"
      },
      "source": [
        "# Booleans and Comparison Operators"
      ]
    },
    {
      "cell_type": "markdown",
      "metadata": {
        "id": "1S_nEmkyElGG"
      },
      "source": [
        "## Learning Objectives"
      ]
    },
    {
      "cell_type": "markdown",
      "metadata": {
        "id": "L5kfkE3MElGH"
      },
      "source": [
        "- Understand the basics of the Boolean data type (bool).\n",
        "- Learn how to use comparison operators.\n",
        "- Learn how to use boolean operators."
      ]
    },
    {
      "cell_type": "markdown",
      "metadata": {
        "id": "zotrgnTXElGI"
      },
      "source": [
        "Booleans are data forms with only two possible values: `True` or `False`. These are actually Python keywords; therefore, you can create a boolean using them."
      ]
    },
    {
      "cell_type": "code",
      "execution_count": null,
      "metadata": {
        "id": "GEYPnEb0ElGJ",
        "outputId": "d5bef362-35bd-42bb-9eca-49c6799133f3"
      },
      "outputs": [
        {
          "data": {
            "text/plain": [
              "bool"
            ]
          },
          "execution_count": 1,
          "metadata": {},
          "output_type": "execute_result"
        }
      ],
      "source": [
        "bool_1 = True\n",
        "bool_2 = False\n",
        "type(bool_1)"
      ]
    },
    {
      "cell_type": "markdown",
      "metadata": {
        "id": "jCGrzg1GElGL"
      },
      "source": [
        "Additionally, it is possible to cast a value into a boolean. Generally, if it is not empty, it will return True; otherwise, it will return False."
      ]
    },
    {
      "cell_type": "code",
      "execution_count": null,
      "metadata": {
        "id": "--eJa0AAElGL",
        "outputId": "ed7f37e0-3cb1-4d23-f948-7588910dc865"
      },
      "outputs": [
        {
          "name": "stdout",
          "output_type": "stream",
          "text": [
            "True\n",
            "False\n"
          ]
        }
      ],
      "source": [
        "my_str = 'Hello'\n",
        "print(bool(my_str))\n",
        "empty_str = ''\n",
        "print(bool(empty_str))"
      ]
    },
    {
      "cell_type": "markdown",
      "metadata": {
        "id": "O32Xk-xXElGM"
      },
      "source": [
        "Booleans function in Python as they do in maths. Comparison operators that return booleans based on whether the comparison is true or not: \n",
        "- (<) less than\n",
        "- (>) more than\n",
        "- (<=) less than or equal to\n",
        "- (>=) more than or equal to\n",
        "- (==) equal to (single = is assignment)\n",
        "- (!=) not equal,\n",
        "\n",
        "are used to evaluate equality/inequality.\n",
        "\n",
        "Keywords are employed to chain/modify boolean operators:\n",
        "- and\n",
        "- or\n",
        "- not"
      ]
    },
    {
      "cell_type": "code",
      "execution_count": null,
      "metadata": {
        "id": "jePxaZovElGO",
        "outputId": "37e315e9-de7d-4aba-dd4e-66a190c97d7e"
      },
      "outputs": [
        {
          "data": {
            "text/plain": [
              "True"
            ]
          },
          "execution_count": 4,
          "metadata": {},
          "output_type": "execute_result"
        }
      ],
      "source": [
        "1 < 2"
      ]
    },
    {
      "cell_type": "code",
      "execution_count": null,
      "metadata": {
        "id": "69c66wv3ElGQ",
        "outputId": "32d51763-119b-4d0e-a47c-50bcbb468bbb"
      },
      "outputs": [
        {
          "data": {
            "text/plain": [
              "False"
            ]
          },
          "execution_count": 5,
          "metadata": {},
          "output_type": "execute_result"
        }
      ],
      "source": [
        "1 >= 2"
      ]
    },
    {
      "cell_type": "code",
      "execution_count": null,
      "metadata": {
        "id": "kNHgDrjNElGR",
        "outputId": "0fb1c2cb-94d7-40e7-c980-8d492cdc094a"
      },
      "outputs": [
        {
          "data": {
            "text/plain": [
              "True"
            ]
          },
          "execution_count": 6,
          "metadata": {},
          "output_type": "execute_result"
        }
      ],
      "source": [
        "# and/or for boolean-comparison chaining.\n",
        "1 < 2 and 10 < 20"
      ]
    },
    {
      "cell_type": "code",
      "execution_count": null,
      "metadata": {
        "id": "C95GkWCjElGR",
        "outputId": "e3d790be-8951-481a-c8aa-05904ab7e8a5"
      },
      "outputs": [
        {
          "data": {
            "text/plain": [
              "False"
            ]
          },
          "execution_count": 7,
          "metadata": {},
          "output_type": "execute_result"
        }
      ],
      "source": [
        "True and False"
      ]
    },
    {
      "cell_type": "code",
      "execution_count": null,
      "metadata": {
        "id": "ge1eNs6yElGS",
        "outputId": "4af87707-78ea-4283-cf35-120e75ff1500"
      },
      "outputs": [
        {
          "data": {
            "text/plain": [
              "True"
            ]
          },
          "execution_count": 8,
          "metadata": {},
          "output_type": "execute_result"
        }
      ],
      "source": [
        "True or False"
      ]
    },
    {
      "cell_type": "code",
      "execution_count": null,
      "metadata": {
        "id": "lvnsIuHFElGT",
        "outputId": "e5ad7c10-c504-4623-c8a9-51115c587313"
      },
      "outputs": [
        {
          "data": {
            "text/plain": [
              "True"
            ]
          },
          "execution_count": 9,
          "metadata": {},
          "output_type": "execute_result"
        }
      ],
      "source": [
        "# and/or for boolean-comparison chaining.\n",
        "25 > 37 or 55 < 100"
      ]
    },
    {
      "cell_type": "code",
      "execution_count": null,
      "metadata": {
        "id": "HhpRjCj2ElGU",
        "outputId": "5017f2aa-a056-4a53-c2d3-1fcd21b974b4"
      },
      "outputs": [
        {
          "data": {
            "text/plain": [
              "False"
            ]
          },
          "execution_count": 10,
          "metadata": {},
          "output_type": "execute_result"
        }
      ],
      "source": [
        "# use not to return the opposite boolean.\n",
        "not 100 > 1"
      ]
    },
    {
      "cell_type": "code",
      "execution_count": null,
      "metadata": {
        "id": "E_on-e7IElGU",
        "outputId": "bd9ba4d9-8b86-456d-d159-3f3c9a90b768"
      },
      "outputs": [
        {
          "name": "stdout",
          "output_type": "stream",
          "text": [
            "False\n",
            "True\n",
            "True\n"
          ]
        }
      ],
      "source": [
        "# use the 'in' keyword to determine if an item is iterable (also works for strings).\n",
        "print(\"x\" in [1,2,3])\n",
        "\n",
        "print(\"x\" in ['x','y','z'])\n",
        "\n",
        "print(\"a\" in \"a world\")"
      ]
    },
    {
      "cell_type": "markdown",
      "metadata": {
        "id": "XJIdpsNFElGV"
      },
      "source": [
        "## Conclusion\n",
        "At this point, you should have a good understanding of\n",
        "- the nature of booleans and how to use them.\n",
        "- how to use booleans and logical operators.\n",
        "<br><br>\n",
        "\n"
      ]
    }
  ],
  "metadata": {
    "interpreter": {
      "hash": "beedbe2faf2f7048d727558d0bc3221e7eba2a0b921cac4d4771b2feb8f74b30"
    },
    "kernelspec": {
      "display_name": "Python 3.10.2 64-bit",
      "language": "python",
      "name": "python3"
    },
    "language_info": {
      "codemirror_mode": {
        "name": "ipython",
        "version": 3
      },
      "file_extension": ".py",
      "mimetype": "text/x-python",
      "name": "python",
      "nbconvert_exporter": "python",
      "pygments_lexer": "ipython3",
      "version": "3.10.2"
    },
    "orig_nbformat": 4,
    "colab": {
      "provenance": []
    }
  },
  "nbformat": 4,
  "nbformat_minor": 0
}