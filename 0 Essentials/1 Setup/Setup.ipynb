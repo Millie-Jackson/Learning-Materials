{
  "cells": [
    {
      "cell_type": "markdown",
      "metadata": {
        "id": "HJ1UAfmmimua"
      },
      "source": [
        "## Setting up (Linux)\n",
        "You will set up everything you need to get started on your local Linux machine. To execute the commands below you will need to open the Linux command line."
      ]
    },
    {
      "cell_type": "markdown",
      "metadata": {
        "id": "UkHqmA8Kimue"
      },
      "source": [
        "### 1. Updating Linux\n",
        "First thing let's make sure our operating system is up to date."
      ]
    },
    {
      "cell_type": "code",
      "execution_count": null,
      "metadata": {
        "vscode": {
          "languageId": "shellscript"
        },
        "id": "NM7r7xAsimuf"
      },
      "outputs": [],
      "source": [
        "sudo apt-get update \n",
        "sudo apt-get upgrade -y"
      ]
    },
    {
      "cell_type": "markdown",
      "metadata": {
        "id": "Jyx37xrKimug"
      },
      "source": [
        "### 2. Installing miniconda\n",
        "Miniconda is mininimal installer for conda (an open source environment and package manager). It includes conda, Python, the packages they depend on and a small number of other useful packages."
      ]
    },
    {
      "cell_type": "code",
      "execution_count": null,
      "metadata": {
        "vscode": {
          "languageId": "shellscript"
        },
        "id": "46-qgHsWimuh"
      },
      "outputs": [],
      "source": [
        "\n",
        "wget -q https://repo.anaconda.com/miniconda/Miniconda3-latest-Linux-x86_64.sh -O /tmp/miniconda.sh \n",
        "sudo bash /tmp/miniconda.sh -b -p $HOME/miniconda \n",
        "sudo ~/miniconda/bin/conda init"
      ]
    },
    {
      "cell_type": "markdown",
      "metadata": {
        "id": "B-mhVa3Nimuh"
      },
      "source": [
        "After running the last command, you should see a similar message in your terminal. Now is time to close the current terminal and open a new one, in order for the changes to take place."
      ]
    },
    {
      "cell_type": "markdown",
      "metadata": {
        "id": "z2ql4307imuh"
      },
      "source": [
        "![alt text](Linux1.png \"Terminal output\")"
      ]
    },
    {
      "cell_type": "markdown",
      "metadata": {
        "id": "j2Twgx22imui"
      },
      "source": [
        "### 3. Installing Python"
      ]
    },
    {
      "cell_type": "code",
      "execution_count": null,
      "metadata": {
        "vscode": {
          "languageId": "shellscript"
        },
        "id": "RIDT0qVGimui"
      },
      "outputs": [],
      "source": [
        "sudo apt install python3-pip"
      ]
    },
    {
      "cell_type": "markdown",
      "metadata": {
        "id": "khSCMb5Aimui"
      },
      "source": [
        "A message similar to the one before will pop up during Python installation. Make sure to press 'Y' when the 'Do you want to continue?' question comes up."
      ]
    },
    {
      "cell_type": "markdown",
      "metadata": {
        "id": "FZnmwT2Ximuj"
      },
      "source": [
        "![alt text](Linux2.png \"Terminal Python output\")"
      ]
    },
    {
      "cell_type": "markdown",
      "metadata": {
        "id": "toCgs_oJimuj"
      },
      "source": [
        "### 4. Installing VS Code\n",
        "Visual Studio Code is a free source code editor that fully supports Python and has useful features such as support for debugging, syntax highlighthing, etc."
      ]
    },
    {
      "cell_type": "code",
      "execution_count": null,
      "metadata": {
        "vscode": {
          "languageId": "shellscript"
        },
        "id": "tagUQ3mzimuj"
      },
      "outputs": [],
      "source": [
        "sudo snap refresh \n",
        "sudo snap remove code \n",
        "sudo snap install code --classic "
      ]
    },
    {
      "cell_type": "markdown",
      "metadata": {
        "id": "9JQaNyI9imuk"
      },
      "source": [
        "Now we should have successfully installed Visual Studio Code on your local machine. Let's open it up, just as show in the picture below"
      ]
    },
    {
      "cell_type": "markdown",
      "metadata": {
        "id": "1NQ7fpLrimuk"
      },
      "source": [
        "![alt text](Linux3.png \"Open VSCode\")"
      ]
    },
    {
      "cell_type": "markdown",
      "metadata": {
        "id": "V8960r4oimuk"
      },
      "source": [
        "### 4. Installing VS Code extensions"
      ]
    },
    {
      "cell_type": "markdown",
      "metadata": {
        "id": "mLxkBGxPimuk"
      },
      "source": [
        "Finally, we are going to install some important VS Code extensions such as Python and Jupyter Notebook, an extension that provides an interactive way of running Python code. To install any extension we need to click on 'Extensions' as shown below"
      ]
    },
    {
      "cell_type": "markdown",
      "metadata": {
        "id": "3GFMiKrUimuk"
      },
      "source": [
        "![alt text](Linux4.png \"Terminal Python output\")"
      ]
    },
    {
      "cell_type": "markdown",
      "metadata": {
        "id": "71X0uGmRimuk"
      },
      "source": [
        "And from the menu, we will install Python and Jupyter."
      ]
    },
    {
      "cell_type": "markdown",
      "metadata": {
        "id": "f7NVzP_ximul"
      },
      "source": [
        "![alt text](Linux5.png \"Terminal Python output\")"
      ]
    },
    {
      "cell_type": "markdown",
      "metadata": {
        "id": "Z6rf1B1_imul"
      },
      "source": [
        "## Setting up (MacOS)\n",
        "You will set up everything you need to get started on your local MacOS machine. To execute the commands below you will need to open a terminal. On Mac, you can find this by simply typing terminal in your Spotlight Search."
      ]
    },
    {
      "cell_type": "markdown",
      "metadata": {
        "id": "QvGyk0jSimul"
      },
      "source": [
        "### 1. Installing Homebrew\n",
        "Homebrew is a free and open-source software package management system that simplifies the installation of software on Apple's operating system, macOS."
      ]
    },
    {
      "cell_type": "code",
      "execution_count": null,
      "metadata": {
        "vscode": {
          "languageId": "shellscript"
        },
        "id": "V28CLixqimul"
      },
      "outputs": [],
      "source": [
        "sudo /bin/bash -c \"$(curl -fsSL https://raw.githubusercontent.com/Homebrew/install/HEAD/install.sh)\""
      ]
    },
    {
      "cell_type": "markdown",
      "metadata": {
        "id": "68bwzsNPimul"
      },
      "source": [
        "When you are installing Homebrew, you will get the following message in your terminal:"
      ]
    },
    {
      "cell_type": "markdown",
      "metadata": {
        "id": "Qk0RzMYgimum"
      },
      "source": [
        "![alt text](Mac1.png \"Terminal Python output\")"
      ]
    },
    {
      "cell_type": "markdown",
      "metadata": {
        "id": "9ZoxMV-limum"
      },
      "source": [
        "Make sure to press ENTER to continue the installation."
      ]
    },
    {
      "cell_type": "markdown",
      "metadata": {
        "id": "GzTsqQY9imum"
      },
      "source": [
        "### 2. Installing miniconda\n",
        "Miniconda is mininimal installer for conda (an open source environment and package manager). It includes conda, Python, the packages they depend on and a small number of other useful packages."
      ]
    },
    {
      "cell_type": "code",
      "execution_count": null,
      "metadata": {
        "vscode": {
          "languageId": "shellscript"
        },
        "id": "8LJU-5taimum"
      },
      "outputs": [],
      "source": [
        "\n",
        "curl -o /tmp/miniconda.sh https://repo.anaconda.com/miniconda/Miniconda3-latest-MacOSX-x86_64.sh \n",
        "sudo bash /tmp/miniconda.sh -b -p $HOME/miniconda \n",
        "sudo ~/miniconda/bin/conda init zsh"
      ]
    },
    {
      "cell_type": "markdown",
      "metadata": {
        "id": "0k1bUAn2imum"
      },
      "source": [
        "Once installation is finished, you should see a message similar to the one below. Now is the time to close your terminal and open a new one, in order for the changes to take place."
      ]
    },
    {
      "cell_type": "markdown",
      "metadata": {
        "id": "bffpb_Kjimum"
      },
      "source": [
        "![alt text](Mac2.png \"Terminal Python output\")"
      ]
    },
    {
      "cell_type": "markdown",
      "metadata": {
        "id": "ssmp6LCwimum"
      },
      "source": [
        "### 3. Installing Python\n",
        "Python is a high-level general-purpose programming language and is going to be language of choice for the programme."
      ]
    },
    {
      "cell_type": "code",
      "execution_count": null,
      "metadata": {
        "vscode": {
          "languageId": "shellscript"
        },
        "id": "qY-kT2c3imum"
      },
      "outputs": [],
      "source": [
        "brew install python"
      ]
    },
    {
      "cell_type": "markdown",
      "metadata": {
        "id": "9lL_hnz0imun"
      },
      "source": [
        "### 4. Installing VS Code\n",
        "Visual Studio Code is a free source code editor that fully supports Python and has useful features such as support for debugging, syntax highlighthing, etc."
      ]
    },
    {
      "cell_type": "code",
      "execution_count": null,
      "metadata": {
        "vscode": {
          "languageId": "shellscript"
        },
        "id": "F_iQIET9imun"
      },
      "outputs": [],
      "source": [
        "brew install --cask visual-studio-code"
      ]
    },
    {
      "cell_type": "markdown",
      "metadata": {
        "id": "okTdOYH_imun"
      },
      "source": [
        "Once the installation is done, you should be able to find your VS Code in your Spotlight Search."
      ]
    },
    {
      "cell_type": "markdown",
      "metadata": {
        "id": "QJqG4Bc7imun"
      },
      "source": [
        "![alt text](Mac3.png \"Terminal Python output\")"
      ]
    },
    {
      "cell_type": "markdown",
      "metadata": {
        "id": "pbdxEY3Dimun"
      },
      "source": [
        "### 5. Installing VS Code extensions"
      ]
    },
    {
      "cell_type": "markdown",
      "metadata": {
        "id": "da4toz5Gimun"
      },
      "source": [
        "Please follow the same instructions from step 4 Linux installation."
      ]
    },
    {
      "cell_type": "markdown",
      "metadata": {
        "id": "k-hIKq5kimun"
      },
      "source": [
        "## Setting up (Windows)\n",
        "You will set up everything you need to get started on your local Windows machine. "
      ]
    },
    {
      "cell_type": "markdown",
      "metadata": {
        "id": "EGImbrW8imun"
      },
      "source": [
        "### 1. Preparing to install your environment\n",
        "To execute the commands below you will need to open the PowerShell. Before running the commands below, you will need to run \"Set-ExecutionPolicy unrestricted -Scope LocalMachine\" in powershell with adminsitrator privileges. You should see the following output in your PowerShell:"
      ]
    },
    {
      "cell_type": "markdown",
      "metadata": {
        "id": "-rlpFMlWimuo"
      },
      "source": [
        "![alt text](Windows1.png \"Terminal Python output\")"
      ]
    },
    {
      "cell_type": "markdown",
      "metadata": {
        "id": "pJJPcoNRimuo"
      },
      "source": [
        "Make sure to type in 'y' and press Enter to continue, and then run the two following lines:"
      ]
    },
    {
      "cell_type": "code",
      "execution_count": null,
      "metadata": {
        "vscode": {
          "languageId": "shellscript"
        },
        "id": "83W5Vatdimuo"
      },
      "outputs": [],
      "source": [
        "$UserProfile = $env:USERPROFILE\n",
        "New-Item -ErrorAction Ignore -ItemType Directory -Path C:\\temp "
      ]
    },
    {
      "cell_type": "markdown",
      "metadata": {
        "id": "2zjcqCjgimuo"
      },
      "source": [
        "### 2. Downloading & installing Git Bash\n",
        "Git Bash is an application that provides Git command line experience for Microsoft Windows environments."
      ]
    },
    {
      "cell_type": "code",
      "execution_count": null,
      "metadata": {
        "vscode": {
          "languageId": "shellscript"
        },
        "id": "26yfGlUAimuo"
      },
      "outputs": [],
      "source": [
        "Invoke-RestMethod -Uri \"https://github.com/git-for-windows/git/releases/download/v2.37.0.windows.1/Git-2.37.0-64-bit.exe\" -OutFile \"C:\\temp\\Git-2.37.0-64-bit.exe\" \n",
        "Start-Process -FilePath C:\\temp\\Git-2.37.0-64-bit.exe -Wait -ArgumentList \"/NORESTART /VERYSILENT\" "
      ]
    },
    {
      "cell_type": "markdown",
      "metadata": {
        "id": "T3Hg3oUnimuo"
      },
      "source": [
        "### 3. Downloading and installing miniconda3\n",
        "Miniconda is mininimal installer for conda (an open source environment and package manager). It includes conda, Python, the packages they depend on and a small number of other useful packages."
      ]
    },
    {
      "cell_type": "code",
      "execution_count": null,
      "metadata": {
        "vscode": {
          "languageId": "shellscript"
        },
        "id": "yOVVuJ5Simuo"
      },
      "outputs": [],
      "source": [
        "Invoke-RestMethod -Uri \"https://repo.anaconda.com/miniconda/Miniconda3-latest-Windows-x86_64.exe\" -OutFile  \"C:\\temp\\Miniconda3-latest-Windows-x86_64.exe\"\n",
        "Remove-Item -Recurse -ErrorAction Ignore \"$UserProfile\\Miniconda3\"\n",
        "Start-Process -FilePath C:\\temp\\Miniconda3-latest-Windows-x86_64.exe `\n",
        "-Wait -ArgumentList @(\"/S\", \"/InstallationType=AllUsers\", \"/RegisterPython=1\", \"/AddToPath=1\", \"/D=$UserProfile\\Miniconda3\")"
      ]
    },
    {
      "cell_type": "markdown",
      "metadata": {
        "id": "XYQjQVFhimuo"
      },
      "source": [
        "### 4. Activating miniconda\n",
        "To activate Miniconda run the following commands:"
      ]
    },
    {
      "cell_type": "code",
      "execution_count": null,
      "metadata": {
        "vscode": {
          "languageId": "shellscript"
        },
        "id": "bMET9OyYimup"
      },
      "outputs": [],
      "source": [
        "Start-Process -FilePath $UserProfile\\Miniconda3\\condabin\\activate.bat -Wait \n",
        "Start-Process -FilePath $UserProfile\\Miniconda3\\condabin\\conda.bat -Wait -ArgumentList @(\"init powershell\")\n",
        "Write-Output \". '$UserProfile\\Miniconda3\\etc\\profile.d\\conda.sh'\" | Out-File -Encoding Ascii -FilePath ~/.bashrc "
      ]
    },
    {
      "cell_type": "markdown",
      "metadata": {
        "id": "Wxz_6azPimup"
      },
      "source": [
        "You should now see 'base' appearing in your terminal, before you machine name, just as in the picture below:"
      ]
    },
    {
      "cell_type": "markdown",
      "metadata": {
        "id": "W2qj8Ylbimup"
      },
      "source": [
        "![alt text](Windows2.png \"Terminal Python output\")"
      ]
    },
    {
      "cell_type": "markdown",
      "metadata": {
        "id": "5WUcoRKwimup"
      },
      "source": [
        "Now is the time to close your PoweShell and open a new one, in order for the changes to take place."
      ]
    },
    {
      "cell_type": "markdown",
      "metadata": {
        "id": "2oCG4vddimup"
      },
      "source": [
        "### 5. Downloading and installing VS Code\n",
        "Visual Studio Code is a free source code editor that fully supports Python and has useful features such as support for debugging, syntax highlighthing, etc."
      ]
    },
    {
      "cell_type": "code",
      "execution_count": null,
      "metadata": {
        "vscode": {
          "languageId": "shellscript"
        },
        "id": "qP3JreGwimup"
      },
      "outputs": [],
      "source": [
        "Invoke-RestMethod -Uri \"https://code.visualstudio.com/sha/download?build=stable&os=win32-x64\" -OutFile \"C:\\temp\\VS_Code.exe\" \n",
        "Start-Process -FilePath C:\\temp\\VS_Code.exe -Wait -ArgumentList \"/NORESTART /VERYSILENT /MERGETASKS=!runcode\" "
      ]
    },
    {
      "cell_type": "markdown",
      "metadata": {
        "id": "TEaGy435imup"
      },
      "source": [
        "Once the installation has finished, you should be able to find Visual Studio Code in your applications and open it."
      ]
    },
    {
      "cell_type": "markdown",
      "metadata": {
        "id": "1pn7iQ9mimup"
      },
      "source": [
        "### 6. Installing VS Code extensions"
      ]
    },
    {
      "cell_type": "markdown",
      "metadata": {
        "id": "e6-631Byimuq"
      },
      "source": [
        "Please follow the same instructions from step 4 Linux installation."
      ]
    }
  ],
  "metadata": {
    "interpreter": {
      "hash": "09d8601da2aa4dd73cc7e9c40ea3f7292d3d22be5aed83dc35ceaff56697c175"
    },
    "kernelspec": {
      "display_name": "Python 3.9.7 ('base')",
      "language": "python",
      "name": "python3"
    },
    "language_info": {
      "name": "python",
      "version": "3.9.7"
    },
    "orig_nbformat": 4,
    "colab": {
      "provenance": []
    }
  },
  "nbformat": 4,
  "nbformat_minor": 0
}