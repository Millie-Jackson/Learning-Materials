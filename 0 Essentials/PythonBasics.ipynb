{
 "cells": [
  {
   "cell_type": "code",
   "execution_count": null,
   "metadata": {},
   "outputs": [],
   "source": [
    "# data types\n",
    "age = 32\n",
    "age = 33\n",
    "print(\"age\")\n",
    "height = 5.4\n",
    "name = \"Millie\"\n",
    "staff = False\n",
    "student = True\n",
    "items = (\"pizza\",\"plate\",\"monster\", 15.45)\n",
    "items[0]\n",
    "parents = (\"mom\",\"dad\")\n",
    "person{\n",
    "    'name': 'Millie',\n",
    "    'age': age,  #key:value\n",
    "}\n",
    "millies_name = person['name']"
   ]
  },
  {
   "cell_type": "code",
   "execution_count": null,
   "metadata": {},
   "outputs": [],
   "source": [
    "# equations\n",
    "my_sum = 5 % 3 # % what is the remainder? 2\n",
    "#x//y # divided by and rounded down to the nearest integer\n",
    "2 ** 3 # 2 to the power of 3\n",
    "2 ** 0.5 # root\n",
    "round(10/3, 4) # 10 / 3 rounding down to 4 decimals 3.3333\n",
    "s = 'string' * 3 \n",
    "print(s) # prints string 3 times"
   ]
  },
  {
   "cell_type": "code",
   "execution_count": null,
   "metadata": {},
   "outputs": [],
   "source": [
    "# data flow\n",
    "if student:\n",
    "    print(\"Hi student\")\n",
    "elif student or age < 18:\n",
    "    print(\"not staff\")\n",
    "elif staff:\n",
    "    print(\"not student\")\n",
    "elif 'monster' in items:\n",
    "    print(\"must be a student\")\n",
    "elif not staff or student:\n",
    "        print(\"Hi stranger\")\n",
    "else:\n",
    "    print(\"Hi staff\")"
   ]
  },
  {
   "cell_type": "code",
   "execution_count": null,
   "metadata": {},
   "outputs": [],
   "source": [
    "# loops\n",
    "while student:\n",
    "    print(\"Hiya\")\n",
    "    break\n",
    "\n",
    "for item in items:\n",
    "    print(items)\n",
    "\n",
    "for idx in range():\n",
    "    print(idx)\n",
    "    if idx == 5: # check if they are the same\n",
    "        break\n",
    "    if idx == 4:\n",
    "        continue"
   ]
  },
  {
   "cell_type": "code",
   "execution_count": 4,
   "metadata": {},
   "outputs": [
    {
     "name": "stdout",
     "output_type": "stream",
     "text": [
      "Pneumonoultramicroscopicsilicovolcanoconiosis\n",
      "45\n",
      "P\n",
      "s\n",
      "Ps\n"
     ]
    }
   ],
   "source": [
    "long_word = 'Pneumonoultramicroscopicsilicovolcanoconiosis'\n",
    "print(long_word)\n",
    "\n",
    "length = len(long_word)\n",
    "print(length)\n",
    "\n",
    "first_c = long_word[0]\n",
    "print(first_c)\n",
    "\n",
    "last_c = long_word[44]\n",
    "print(last_c)\n",
    "\n",
    "add = first_c + last_c\n",
    "print(add)"
   ]
  },
  {
   "cell_type": "code",
   "execution_count": 14,
   "metadata": {},
   "outputs": [
    {
     "name": "stdout",
     "output_type": "stream",
     "text": [
      "67\n",
      "17\n",
      "1050\n",
      "1.68\n",
      "<class 'float'>\n"
     ]
    }
   ],
   "source": [
    "a = 42\n",
    "b = 25\n",
    "\n",
    "print(a + b)\n",
    "print(a - b)\n",
    "print(a * b)\n",
    "print(a / b)\n",
    "\n",
    "a = 4.2\n",
    "c = a + b\n",
    "answer = type(c)\n",
    "print(type(c))"
   ]
  },
  {
   "cell_type": "code",
   "execution_count": 19,
   "metadata": {},
   "outputs": [
    {
     "name": "stdout",
     "output_type": "stream",
     "text": [
      "208.95\n",
      "1044.75\n",
      "1.9499999999999886\n",
      "-1163220302.3333333\n"
     ]
    }
   ],
   "source": [
    "answer = 1044.75 / 5\n",
    "question = 208.95 * 5\n",
    "print(answer)\n",
    "print(question)\n",
    "\n",
    "print(answer % 3)\n",
    "\n",
    "calculate = 1 + 2 * 3 - 4 / 6 * (6 + 7) * 8 ** 9\n",
    "print(calculate)"
   ]
  }
 ],
 "metadata": {
  "interpreter": {
   "hash": "5227233d92ac1c977628b741c376f95ee6d2ad496031b3f29889792bbafbda59"
  },
  "kernelspec": {
   "display_name": "Python 3.9.7 ('Scratch')",
   "language": "python",
   "name": "python3"
  },
  "language_info": {
   "codemirror_mode": {
    "name": "ipython",
    "version": 3
   },
   "file_extension": ".py",
   "mimetype": "text/x-python",
   "name": "python",
   "nbconvert_exporter": "python",
   "pygments_lexer": "ipython3",
   "version": "3.9.7"
  },
  "orig_nbformat": 4
 },
 "nbformat": 4,
 "nbformat_minor": 2
}
