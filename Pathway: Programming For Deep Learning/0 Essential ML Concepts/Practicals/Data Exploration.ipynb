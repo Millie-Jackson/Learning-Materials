{
  "cells": [
    {
      "cell_type": "markdown",
      "metadata": {
        "id": "6MEprrn49Pn7"
      },
      "source": [
        "# 1. Data Exploration\n"
      ]
    },
    {
      "cell_type": "code",
      "execution_count": 2,
      "metadata": {
        "id": "aeaea9f1",
        "outputId": "9f2e96fb-4b3a-43fb-c142-3bd89db83ea6",
        "colab": {
          "base_uri": "https://localhost:8080/"
        }
      },
      "outputs": [
        {
          "output_type": "stream",
          "name": "stdout",
          "text": [
            "Downloading features_data.npy...\n",
            "Downloading labels_data.npy...\n"
          ]
        }
      ],
      "source": [
        "#@title # Run the following cell to download the necessary files for this practical. { display-mode: \"form\" } \n",
        "#@markdown Don't worry about what's in this collapsed cell\n",
        "\n",
        "print('Downloading features_data.npy...')\n",
        "!wget https://s3-eu-west-1.amazonaws.com/aicore-portal-public-prod-307050600709/practicals_files/d3c3c455-feb6-4293-87ff-8c40c5a06d73/features_data.npy -q\n",
        "print('Downloading labels_data.npy...')\n",
        "!wget https://s3-eu-west-1.amazonaws.com/aicore-portal-public-prod-307050600709/practicals_files/d3c3c455-feb6-4293-87ff-8c40c5a06d73/labels_data.npy -q\n"
      ]
    },
    {
      "cell_type": "code",
      "execution_count": 1,
      "metadata": {
        "id": "I9idDwnL9Pn_"
      },
      "outputs": [],
      "source": [
        "import numpy as np\n",
        "import matplotlib"
      ]
    },
    {
      "cell_type": "markdown",
      "metadata": {
        "id": "opPv4x9w9Pn_"
      },
      "source": [
        "The data for this practical are stored in two numpy files called `labels_data` and `features_data`. Use the `np.load` function to bring them into the workspace and assign them to variables called `features` and `labels`."
      ]
    },
    {
      "cell_type": "code",
      "execution_count": 3,
      "metadata": {
        "id": "sp-O61lD9Pn_"
      },
      "outputs": [],
      "source": [
        "features=np.load('features_data.npy')\n",
        "labels= np.load('labels_data.npy')"
      ]
    },
    {
      "cell_type": "markdown",
      "metadata": {
        "id": "caRzELPr9Pn_"
      },
      "source": [
        "Find the shape of the labels and features variables:"
      ]
    },
    {
      "cell_type": "code",
      "execution_count": 7,
      "metadata": {
        "id": "phdo03BS9PoA",
        "outputId": "0acf578a-a76a-4344-ac18-70bf98446248",
        "colab": {
          "base_uri": "https://localhost:8080/"
        }
      },
      "outputs": [
        {
          "output_type": "stream",
          "name": "stdout",
          "text": [
            "(100, 9)\n",
            "(100,)\n"
          ]
        }
      ],
      "source": [
        "print(features.shape)\n",
        "print(labels.shape)"
      ]
    },
    {
      "cell_type": "markdown",
      "metadata": {
        "id": "_A7A8Sr29PoA"
      },
      "source": [
        "Now do some exploratory data analysis. Calculate the mean and std of all the features, for rows where the label is 1. Then do the same for all the features for rows where the label is 2."
      ]
    },
    {
      "cell_type": "code",
      "execution_count": 10,
      "metadata": {
        "id": "1rfIdmFB9PoA",
        "outputId": "760dcfe1-e72a-4f3a-c845-0c5bfaee27b9",
        "colab": {
          "base_uri": "https://localhost:8080/"
        }
      },
      "outputs": [
        {
          "output_type": "stream",
          "name": "stdout",
          "text": [
            "[3, 6, 10, 12, 14, 18, 24, 25, 28, 29, 32, 33, 34, 37, 38, 41, 45, 47, 50, 53, 54, 55, 56, 58, 67, 72, 79, 82, 84, 86, 87, 90, 93, 99]\n",
            "24.501175351453693\n",
            "14.789957140362487\n"
          ]
        }
      ],
      "source": [
        "indices = []\n",
        "\n",
        "# Long way\n",
        "for idx, label in enumerate(labels):\n",
        "  if label == 1:\n",
        "    indices.append(idx)\n",
        "\n",
        "# Short way\n",
        "\n",
        "indices = [idx for idx, label in enumerate(labels) if label == 1]\n",
        "\n",
        "print(indices)\n",
        "print(np.mean(features[indices]))\n",
        "print(np.std(features[indices]))"
      ]
    },
    {
      "cell_type": "markdown",
      "metadata": {
        "id": "Z__nZdwo9PoA"
      },
      "source": [
        "Now use `Matplotlib` to create a scatter plot, where the values of feature 1 are on the X axis and the values of feature 2 are on the Y axis. Plot the values of feature 1 and feature 2 for all the rows where the class label is zero. \n",
        "\n",
        "Then scatter the feature 1 and feature 2 values against each other for class label 1, in a different colour."
      ]
    },
    {
      "cell_type": "code",
      "execution_count": 12,
      "metadata": {
        "id": "mtHblm0G9PoB",
        "outputId": "3f187ee6-7bcd-4ea1-83a7-c494e5db0125",
        "colab": {
          "base_uri": "https://localhost:8080/",
          "height": 283
        }
      },
      "outputs": [
        {
          "output_type": "execute_result",
          "data": {
            "text/plain": [
              "<matplotlib.collections.PathCollection at 0x7f5d5643bfa0>"
            ]
          },
          "metadata": {},
          "execution_count": 12
        },
        {
          "output_type": "display_data",
          "data": {
            "text/plain": [
              "<Figure size 432x288 with 1 Axes>"
            ],
            "image/png": "[encoded data removed]"
          },
          "metadata": {
            "needs_background": "light"
          }
        }
      ],
      "source": [
        "import matplotlib.pyplot as plt\n",
        "\n",
        "plt.scatter(features[:, 1], labels)\n"
      ]
    },
    {
      "cell_type": "code",
      "source": [],
      "metadata": {
        "id": "DOUD02AODNTs"
      },
      "execution_count": null,
      "outputs": []
    }
  ],
  "metadata": {
    "kernelspec": {
      "display_name": "content-projects_new",
      "language": "python",
      "name": "python3"
    },
    "language_info": {
      "codemirror_mode": {
        "name": "ipython",
        "version": 3
      },
      "file_extension": ".py",
      "mimetype": "text/x-python",
      "name": "python",
      "nbconvert_exporter": "python",
      "pygments_lexer": "ipython3",
      "version": "3.10.8 (main, Nov 24 2022, 14:13:03) [GCC 11.2.0]"
    },
    "vscode": {
      "interpreter": {
        "hash": "4b961f8166aad6ccb4cf65d0f9c742ef9c6c23ffe83ad932438cd83ed96aebaf"
      }
    },
    "colab": {
      "provenance": []
    }
  },
  "nbformat": 4,
  "nbformat_minor": 0
}