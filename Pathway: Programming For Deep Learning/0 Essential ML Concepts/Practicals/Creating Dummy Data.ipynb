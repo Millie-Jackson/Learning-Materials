{
  "cells": [
    {
      "cell_type": "markdown",
      "metadata": {
        "id": "CNMFDkFi4BZF"
      },
      "source": [
        "# Creating Dummy Data \n",
        "\n",
        "Imagine you are building a machine learning model for a classification problem, and you want to pass it some dummy data that has the same shape as your real data. You know that each datum will have 9 features, which are all floating point integers between -1 and 1, and a label, which will be an integer between 0 and 3, as you are trying to classify between 4 classes.\n"
      ]
    },
    {
      "cell_type": "code",
      "execution_count": 1,
      "metadata": {
        "id": "hk5n9Eb-4BZJ"
      },
      "outputs": [],
      "source": [
        "# Run this cell to import the dependencies\n",
        "\n",
        "import numpy as np"
      ]
    },
    {
      "cell_type": "markdown",
      "metadata": {
        "id": "8JZdaoDo4BZV"
      },
      "source": [
        "In the code box below, create a numpy array of 100 of random integers, and assign it to a variable called labels."
      ]
    },
    {
      "cell_type": "code",
      "execution_count": 2,
      "metadata": {
        "id": "lIDon9_-4BZW",
        "outputId": "cffcccce-125d-4fc2-fed8-40688973d58c",
        "colab": {
          "base_uri": "https://localhost:8080/"
        }
      },
      "outputs": [
        {
          "output_type": "stream",
          "name": "stdout",
          "text": [
            "[0 3 0 0 0 2 1 3 2 0 3 2 0 3 3 3 3 3 1 1 1 2 0 2 2 3 1 2 1 3 2 2 3 1 0 3 3\n",
            " 2 2 3 2 2 2 3 3 0 1 1 2 2 0 3 2 2 2 2 2 0 2 1 0 1 0 3 3 2 0 3 1 1 0 2 1 1\n",
            " 2 1 2 1 3 2 1 2 0 2 3 1 1 0 1 0 0 1 0 1 1 1 3 0 1 1]\n"
          ]
        }
      ],
      "source": [
        "lables = np.random.randint(0, 4, size=100)\n",
        "print(lables)"
      ]
    },
    {
      "cell_type": "markdown",
      "metadata": {
        "id": "IBv9mN5w4BZX"
      },
      "source": [
        "Now create an array that corresponds to your features, so that you have one set of features for each label."
      ]
    },
    {
      "cell_type": "code",
      "execution_count": 4,
      "metadata": {
        "id": "B4Q4tQBl4BZY",
        "outputId": "b36dec64-b706-4f4b-c55a-55823a0190a5",
        "colab": {
          "base_uri": "https://localhost:8080/"
        }
      },
      "outputs": [
        {
          "output_type": "stream",
          "name": "stdout",
          "text": [
            "(100, 9)\n"
          ]
        }
      ],
      "source": [
        "\n",
        "features = np.random.randn(100, 9)\n",
        "print(features)"
      ]
    },
    {
      "cell_type": "markdown",
      "metadata": {
        "id": "zNNT15m-4BZZ"
      },
      "source": [
        "Print the shape of your features variable:"
      ]
    },
    {
      "cell_type": "code",
      "execution_count": 6,
      "metadata": {
        "id": "hmrwGL8D4BZa",
        "outputId": "b1fb5714-0a0d-4349-dadd-4b736d64cf72",
        "colab": {
          "base_uri": "https://localhost:8080/"
        }
      },
      "outputs": [
        {
          "output_type": "stream",
          "name": "stdout",
          "text": [
            "(100, 9)\n"
          ]
        }
      ],
      "source": [
        "print(features.shape)"
      ]
    },
    {
      "cell_type": "markdown",
      "metadata": {
        "id": "jWZ94wTK4BZc"
      },
      "source": [
        "Print the shape of your labels:"
      ]
    },
    {
      "cell_type": "code",
      "execution_count": 5,
      "metadata": {
        "id": "KSuvqZEa4BZc",
        "outputId": "cfacd1cf-4fbe-4eac-daf0-2dbdbbd46a56",
        "colab": {
          "base_uri": "https://localhost:8080/"
        }
      },
      "outputs": [
        {
          "output_type": "stream",
          "name": "stdout",
          "text": [
            "(100,)\n"
          ]
        }
      ],
      "source": [
        "print(lables.shape)"
      ]
    },
    {
      "cell_type": "markdown",
      "metadata": {
        "id": "gruYAnoA4BZd"
      },
      "source": [
        "Write a simple function to get the length of your dataset (ie. the number of rows in your features array):"
      ]
    },
    {
      "cell_type": "code",
      "execution_count": 8,
      "metadata": {
        "id": "kuPM5g1X4BZd",
        "outputId": "84a3767a-9a5a-46c3-a7ff-4ae786feebab",
        "colab": {
          "base_uri": "https://localhost:8080/"
        }
      },
      "outputs": [
        {
          "output_type": "execute_result",
          "data": {
            "text/plain": [
              "100"
            ]
          },
          "metadata": {},
          "execution_count": 8
        }
      ],
      "source": [
        "def get_dataset_length(features):\n",
        "  return len(features)\n",
        "\n",
        "get_dataset_length(features)"
      ]
    },
    {
      "cell_type": "code",
      "source": [],
      "metadata": {
        "id": "QC43NVkB8EXf"
      },
      "execution_count": null,
      "outputs": []
    }
  ],
  "metadata": {
    "kernelspec": {
      "display_name": "huggingface1",
      "language": "python",
      "name": "python3"
    },
    "language_info": {
      "codemirror_mode": {
        "name": "ipython",
        "version": 3
      },
      "file_extension": ".py",
      "mimetype": "text/x-python",
      "name": "python",
      "nbconvert_exporter": "python",
      "pygments_lexer": "ipython3",
      "version": "3.10.8"
    },
    "orig_nbformat": 4,
    "vscode": {
      "interpreter": {
        "hash": "e36d4b688d7e3685ae8ad6703c0e99019531dd9f05b6e8f8c82292a1f759bcdc"
      }
    },
    "colab": {
      "provenance": []
    }
  },
  "nbformat": 4,
  "nbformat_minor": 0
}