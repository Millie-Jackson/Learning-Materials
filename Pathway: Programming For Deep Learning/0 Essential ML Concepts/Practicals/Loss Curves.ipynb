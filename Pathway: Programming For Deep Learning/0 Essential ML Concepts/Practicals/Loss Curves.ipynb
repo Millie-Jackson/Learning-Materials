{
  "cells": [
    {
      "cell_type": "markdown",
      "metadata": {
        "id": "hnIfzEtmHoFX"
      },
      "source": [
        "# Loss Functions \n",
        "\n",
        "In this practical, you will compare some simulated real and predicted values using a loss function. The true_values variable represents the targets that a machine learning algorithm, in this case a regression model, is attempting to predict, and the `predicted_values` variable represents the output of the model.\n",
        "\n",
        "Run the code block below to import the values, and add some code to the code block to check the number of predictions, the datatype, and the shape of the data."
      ]
    },
    {
      "cell_type": "code",
      "execution_count": 1,
      "metadata": {
        "colab": {
          "base_uri": "https://localhost:8080/"
        },
        "id": "200f476d",
        "outputId": "bd0dbe79-4a1f-4156-b16c-db63e1bee18e"
      },
      "outputs": [
        {
          "name": "stdout",
          "output_type": "stream",
          "text": [
            "Downloading true_values.npy...\n",
            "Downloading predicted_values.npy...\n"
          ]
        }
      ],
      "source": [
        "#@title # Run the following cell to download the necessary files for this practical. { display-mode: \"form\" } \n",
        "#@markdown Don't worry about what's in this collapsed cell\n",
        "\n",
        "print('Downloading true_values.npy...')\n",
        "!wget https://s3-eu-west-1.amazonaws.com/aicore-portal-public-prod-307050600709/practicals_files/63502043-c8c6-434b-ac7b-ac013fc7f6ff/true_values.npy -q\n",
        "print('Downloading predicted_values.npy...')\n",
        "!wget https://s3-eu-west-1.amazonaws.com/aicore-portal-public-prod-307050600709/practicals_files/63502043-c8c6-434b-ac7b-ac013fc7f6ff/predicted_values.npy -q\n"
      ]
    },
    {
      "cell_type": "code",
      "execution_count": 3,
      "metadata": {
        "colab": {
          "base_uri": "https://localhost:8080/"
        },
        "id": "zUT9ufMlHoFh",
        "outputId": "67dba833-ea8c-4304-e577-a145ff422a57"
      },
      "outputs": [
        {
          "name": "stdout",
          "output_type": "stream",
          "text": [
            "(200, 4)\n",
            "(200, 4)\n",
            "(100, 4)\n"
          ]
        }
      ],
      "source": [
        "import numpy as np\n",
        "\n",
        "true_values=np.load('true_values.npy')\n",
        "predicted_values= np.load('predicted_values.npy')\n",
        "\n",
        "print(true_values.shape)\n",
        "print(predicted_values.shape)\n",
        "\n",
        "# Limit the output\n",
        "print(true_values[:100].shape)\n"
      ]
    },
    {
      "cell_type": "markdown",
      "metadata": {
        "id": "thJ7d3xHHoFj"
      },
      "source": [
        "The data are arranged in batches, with each batch being represented in the data by a row of values. Write a function in the code block below to calculate the mean squared error between the values and the predictions for each batch. Pass the batches to the function and store the losses in a variable called loss. "
      ]
    },
    {
      "cell_type": "code",
      "execution_count": null,
      "metadata": {
        "id": "s1dUeB8pHoFk"
      },
      "outputs": [],
      "source": []
    },
    {
      "cell_type": "code",
      "execution_count": 9,
      "metadata": {
        "colab": {
          "base_uri": "https://localhost:8080/"
        },
        "id": "jAJFXhWKHoFl",
        "outputId": "5d0cdbe6-a12b-4207-fa14-cf29fc3b2c38"
      },
      "outputs": [
        {
          "name": "stdout",
          "output_type": "stream",
          "text": [
            "612.4107986649316\n",
            "42.37032652971862\n",
            "839.8413593868028\n",
            "633.403342155808\n",
            "287.3424420512256\n",
            "1202.3187317228771\n",
            "912.9515508531302\n",
            "468.4523116107648\n",
            "999.4209528011935\n",
            "570.7171096576839\n",
            "576.8650891535751\n",
            "237.8090943765008\n",
            "1005.8429316966227\n",
            "458.0345077713819\n",
            "1259.6740068539677\n",
            "472.1736101030749\n",
            "797.3026601640511\n",
            "144.58211949411722\n",
            "1564.065688232765\n",
            "1466.53704604792\n",
            "690.3855918925011\n",
            "944.1110641729116\n",
            "903.431265554692\n",
            "858.5931334734323\n",
            "1176.715828335748\n",
            "892.5155581533552\n",
            "706.1355678440248\n",
            "1500.1709058178415\n",
            "1021.8176174885739\n",
            "881.8944500212594\n",
            "941.9771854135539\n",
            "1074.1805687055553\n",
            "391.39344155830906\n",
            "1178.9003396987607\n",
            "71.98000434458866\n",
            "693.8817346815445\n",
            "818.6789124941885\n",
            "766.0416056066566\n",
            "1251.4573367628686\n",
            "941.8261006858565\n",
            "1001.501688755935\n",
            "730.4506000698267\n",
            "1017.0584248811786\n",
            "289.1581831170034\n",
            "651.6405040834237\n",
            "1041.712892111929\n",
            "920.8348255294388\n",
            "427.0886023858803\n",
            "400.8785151128726\n",
            "425.6696455725706\n",
            "1232.2425535798388\n",
            "747.111439269406\n",
            "1574.1513280521233\n",
            "695.5400755959527\n",
            "1146.955746523934\n",
            "869.7258771863469\n",
            "578.2104862268977\n",
            "845.3405217697975\n",
            "792.2556041571838\n",
            "1572.3231897581513\n",
            "158.89921618970422\n",
            "553.0534076670372\n",
            "278.4709458062137\n",
            "623.4996436160625\n",
            "740.6827772182402\n",
            "638.8811683253429\n",
            "923.1001234779358\n",
            "627.543153589001\n",
            "625.9436729371747\n",
            "799.6146949024505\n",
            "1304.528001730485\n",
            "828.5974975013406\n",
            "418.7488137533706\n",
            "1171.687407650569\n",
            "288.29293880729983\n",
            "939.8967116884123\n",
            "550.2395979420195\n",
            "593.5475592883269\n",
            "1153.4759855782388\n",
            "845.0342138214082\n",
            "637.8410386158736\n",
            "924.346544810852\n",
            "1370.3178007871882\n",
            "353.67680101841205\n",
            "1748.8575280652412\n",
            "985.3527955519176\n",
            "781.0097875995309\n",
            "1156.0302722136778\n",
            "37.73020582189286\n",
            "233.58503741261393\n",
            "341.25059096648465\n",
            "1341.571182606745\n",
            "682.7874550606257\n",
            "1222.3110855363648\n",
            "632.5059649570483\n",
            "1025.0465388002003\n",
            "521.502537280374\n",
            "1217.304652100641\n",
            "1047.312523060055\n",
            "450.25863729544875\n",
            "727.438389440432\n",
            "850.0494893206526\n",
            "1019.2669186598844\n",
            "743.7189489600005\n",
            "928.190441070498\n",
            "788.5434427868113\n",
            "616.61620263402\n",
            "435.45911170911813\n",
            "328.0753489191077\n",
            "1547.5208137015836\n",
            "590.1804269909949\n",
            "978.288992628838\n",
            "372.59364165070144\n",
            "918.4036161613446\n",
            "472.7243017316112\n",
            "273.2423281506556\n",
            "349.8690374413427\n",
            "782.413660443777\n",
            "521.3000645953779\n",
            "634.9335646392772\n",
            "672.6002623509316\n",
            "648.6774321049322\n",
            "1317.3832829859964\n",
            "620.1418238959875\n",
            "1149.956526993059\n",
            "438.8056637747945\n",
            "1364.8969709928062\n",
            "524.3898123769711\n",
            "688.4320265940967\n",
            "853.0537354553542\n",
            "386.8589201727607\n",
            "298.84073618779763\n",
            "939.2854832395666\n",
            "1166.8523811365824\n",
            "288.2544967756329\n",
            "738.4023144253651\n",
            "775.4101550573314\n",
            "121.14812565957087\n",
            "203.23393791517094\n",
            "734.4059886318895\n",
            "733.5016987480519\n",
            "1090.771427443066\n",
            "768.8861801251056\n",
            "1058.4241375346933\n",
            "1212.6611651597912\n",
            "259.9626424055692\n",
            "1134.0535990612536\n",
            "918.0655496912046\n",
            "685.6839961453845\n",
            "911.7240327250811\n",
            "1287.7090568966064\n",
            "723.7895735091513\n",
            "639.9640112055314\n",
            "805.3148000799204\n",
            "879.6803534474082\n",
            "1232.502952951449\n",
            "994.859000186164\n",
            "1420.4673240075094\n",
            "791.4310288528352\n",
            "811.673525599103\n",
            "457.9957972940455\n",
            "437.4131721583122\n",
            "225.06301122807093\n",
            "435.03845653591316\n",
            "1286.9849453834158\n",
            "1052.120430705174\n",
            "567.1925104208938\n",
            "717.5279724190335\n",
            "810.5265726784293\n",
            "879.9174518470068\n",
            "582.6906017867419\n",
            "525.4896528574673\n",
            "1018.4987972955647\n",
            "1541.5856770233065\n",
            "490.30419932454384\n",
            "807.4374745992297\n",
            "639.2155240094627\n",
            "1126.4797688483295\n",
            "1589.036821125736\n",
            "476.36119324629095\n",
            "390.26458309414795\n",
            "1599.7286713494348\n",
            "527.195149627011\n",
            "1398.2117219926104\n",
            "746.7142054808019\n",
            "860.6064561215788\n",
            "890.9171780538289\n",
            "1073.4543781589698\n",
            "910.6874603963856\n",
            "624.9389596146395\n",
            "711.4266906271193\n",
            "883.1243285924843\n",
            "1206.9819650983789\n",
            "906.5042189482504\n",
            "839.9714019351702\n",
            "708.1746420055284\n",
            "1340.3924506599978\n",
            "758.2880348894564\n",
            "379.2522222775106\n",
            "892.740081282817\n"
          ]
        }
      ],
      "source": [
        "# Each batch has 4\n",
        "\n",
        "def batch_mean_squared_error(true_values, predicted_values):\n",
        "    # Vector of labels - vector of predictions = difference between the two\n",
        "    # Square the differences\n",
        "    # Take the mean\n",
        "    return np.mean((true_values - predicted_values)**2)\n",
        "\n",
        "for idx in range(len(true_values)):\n",
        "  \n",
        "  # Compute loss\n",
        "  labels = true_values[idx]\n",
        "  predictions = predicted_values[idx]\n",
        "  loss = batch_mean_squared_error(labels, predictions)\n",
        "\n",
        "  print(loss)\n",
        "\n",
        "  # Update perameters\n",
        "  losses = []\n",
        "  losses.append(loss)"
      ]
    },
    {
      "cell_type": "markdown",
      "metadata": {
        "id": "10SkTQTaHoFn"
      },
      "source": [
        "Now use the `Matplotlib` library to plot the loss as a scatter plot. The step (ie. the sample number) should be on the X axis, and the loss on the Y axis."
      ]
    },
    {
      "cell_type": "code",
      "execution_count": 1,
      "metadata": {
        "colab": {
          "base_uri": "https://localhost:8080/",
          "height": 283
        },
        "id": "848dplfBHoFp",
        "outputId": "bb5fe410-240b-4c36-c83c-ef5307db3b36"
      },
      "outputs": [
        {
          "ename": "ModuleNotFoundError",
          "evalue": "No module named 'matplotlib'",
          "output_type": "error",
          "traceback": [
            "\u001b[0;31m---------------------------------------------------------------------------\u001b[0m",
            "\u001b[0;31mModuleNotFoundError\u001b[0m                       Traceback (most recent call last)",
            "Cell \u001b[0;32mIn[1], line 1\u001b[0m\n\u001b[0;32m----> 1\u001b[0m \u001b[39mimport\u001b[39;00m \u001b[39mmatplotlib\u001b[39;00m\u001b[39m.\u001b[39;00m\u001b[39mpyplot\u001b[39;00m \u001b[39mas\u001b[39;00m \u001b[39mplt\u001b[39;00m\n\u001b[1;32m      3\u001b[0m plt\u001b[39m.\u001b[39mscatter(losses)\n",
            "\u001b[0;31mModuleNotFoundError\u001b[0m: No module named 'matplotlib'"
          ]
        }
      ],
      "source": [
        "import matplotlib.pyplot as plt\n",
        "\n",
        "plt.scatter(losses)"
      ]
    },
    {
      "cell_type": "code",
      "execution_count": null,
      "metadata": {
        "id": "1AM-RM8_OUns"
      },
      "outputs": [],
      "source": []
    }
  ],
  "metadata": {
    "colab": {
      "provenance": []
    },
    "kernelspec": {
      "display_name": "Python 3",
      "language": "python",
      "name": "python3"
    },
    "language_info": {
      "codemirror_mode": {
        "name": "ipython",
        "version": 3
      },
      "file_extension": ".py",
      "mimetype": "text/x-python",
      "name": "python",
      "nbconvert_exporter": "python",
      "pygments_lexer": "ipython3",
      "version": "3.10.6"
    },
    "vscode": {
      "interpreter": {
        "hash": "916dbcbb3f70747c44a77c7bcd40155683ae19c65e1c03b4aa3499c5328201f1"
      }
    }
  },
  "nbformat": 4,
  "nbformat_minor": 0
}
