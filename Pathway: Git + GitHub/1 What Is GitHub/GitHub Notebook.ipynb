{
  "cells": [
    {
      "cell_type": "markdown",
      "metadata": {
        "id": "NJ9Wj9bT60Ay"
      },
      "source": [
        "# GitHub\n"
      ]
    },
    {
      "cell_type": "markdown",
      "metadata": {
        "id": "fFRTNaSY60A1"
      },
      "source": [
        "In this section, we present an overview of a good central server for storing code, i.e. __GitHub.__ \n",
        "\n",
        "__Before we proceed, please create a new GitHub account [here](www.github.com).__\n"
      ]
    },
    {
      "cell_type": "markdown",
      "metadata": {
        "id": "NeM7l8Qm60A2"
      },
      "source": [
        "\n",
        "## Creating a Repository\n"
      ]
    },
    {
      "cell_type": "markdown",
      "metadata": {
        "id": "5G8dAs1j60A2"
      },
      "source": [
        "To create a repository (repo), please follow the instructions below.\n",
        "- Click on the '+' sign on the top-right side of any page, and select 'New Repository'.\n",
        "\n",
        "![](https://github.com/AI-Core/Content-Public/blob/main/units/Essentials/1.%20Git%20%26%20GitHub/1.%20What%20is%20Github%3F/images/github_top_bar.png?raw=1)\n",
        "\n",
        "You will be redirected to the repository-creation page, which should display the following: \n",
        "\n",
        "- __Public vs Private__: This determines whether the new repo is visible and accessible to everyone (forks and contributions are allowed) or just you and those to whom you grant access.\n",
        "- __Initializing the repository__:\n",
        "    - __Always add `.gitignore` at this step for a specific language (see below).__\n",
        "    - It is advised to choose a license (MIT is the license of choice; however, you should explore other options.\n",
        "    - Additionally, you can create a `README.md` file at this stage; you can also add it later after cloning the repo.\n"
      ]
    },
    {
      "cell_type": "markdown",
      "metadata": {
        "id": "ULhHGccK60A3"
      },
      "source": [
        "## The .gitignore File\n"
      ]
    },
    {
      "cell_type": "markdown",
      "metadata": {
        "id": "Ou7dfD6660A3"
      },
      "source": [
        "\n",
        "> `.gitignore` is a file that prevents the addition of language-related 'junk' (files that are a byproduct of running the project and are not necessary for the project) to git.\n",
        "\n",
        "- Throughout this course, you should always use `python`'s `.gitignore`.\n",
        "- You can also add specific files or filepath expressions, including regex (such as `data`), to this file, one on each line.\n"
      ]
    },
    {
      "cell_type": "markdown",
      "metadata": {
        "id": "phCPPUJj60A3"
      },
      "source": [
        "\n",
        "## Cloning a Repository\n"
      ]
    },
    {
      "cell_type": "markdown",
      "metadata": {
        "id": "DPTyfrBP60A4"
      },
      "source": [
        "<p align=center><img src=https://github.com/AI-Core/Content-Public/blob/main/units/Essentials/1.%20Git%20%26%20GitHub/1.%20What%20is%20Github%3F/images/github_repo_page.png?raw=1 width=600></p>\n",
        "\n",
        "You can clone your repository or any other using the `git clone` command. First, on the repo main page (as shown in the figure above), click on the green button to the right labelled 'Code'. Thereafter, copy the URL link in the 'HTTPS' tab, and run the following command in your terminal:\n",
        "\n",
        "```bash\n",
        "git clone <URL you just copied>\n",
        "```\n",
        "\n",
        "This will create a local version of the repo in a folder with the same name as the repo on GitHub.\n",
        "\n",
        "### GitHub tips\n",
        "\n",
        "- __The size limit for a repository is 2 GB.__\n",
        "- __Store your large files elsewhere (e.g. AWS's S3).__\n",
        "- __Use `git lfs` (https://git-lfs.github.com/) for large files that do not change often.__"
      ]
    },
    {
      "cell_type": "markdown",
      "metadata": {
        "id": "wVXE0nGx60A4"
      },
      "source": [
        "## Pushing Changes to the Remote Repository\n"
      ]
    },
    {
      "cell_type": "markdown",
      "metadata": {
        "id": "UuTFNfVs60A5"
      },
      "source": [
        "\n",
        "After committing, we can push our changes to the remote repository (outer server, __e.g. GitHub__).\n",
        "\n",
        "```bash\n",
        "git push -u origin BRANCH_YOU_ARE_ON\n",
        "```\n",
        "\n",
        "> In this course, you will always push your code to __your__ GitHub repository.\n",
        "\n",
        "When you go to the main page of your remote repository, it should appear similar to the figure below:\n",
        "<p align=center><img src=https://github.com/AI-Core/Content-Public/blob/main/units/Essentials/1.%20Git%20%26%20GitHub/1.%20What%20is%20Github%3F/images/push_to_github.png?raw=1 width=700></p>\n",
        "\n",
        "By clicking on the wide green button, you will be making a pull request.\n"
      ]
    },
    {
      "cell_type": "markdown",
      "metadata": {
        "id": "NyKKlJ-p60A5"
      },
      "source": [
        "\n",
        "## Pull Request\n",
        "\n",
        "> A pull request (PR) is made to the repository/project owner (or anyone with the appropriate rights) to __merge__ changes located on one branch __upstream__ (i.e. to the main branch, which is almost always `master`).\n",
        "\n",
        "<p align=center><img src=https://github.com/AI-Core/Content-Public/blob/main/units/Essentials/1.%20Git%20%26%20GitHub/1.%20What%20is%20Github%3F/images/pull_request_github.png?raw=1 width=700></p>\n",
        "\n",
        "At this point, you can, amongst other things,\n",
        "- assign someone to review your work (__do it all the time if you are collaborating on the project__)\n",
        "- assign someone to work with you\n",
        "- assign appropriate labels for clarity on which part of the project certain changes are related to (everyone should be aware at a glance).\n",
        "\n",
        "> __Most important is the wide green button for creating a PR.__\n"
      ]
    },
    {
      "cell_type": "markdown",
      "metadata": {
        "id": "4k004DGr60A6"
      },
      "source": [
        "## GitHub Issues"
      ]
    },
    {
      "cell_type": "markdown",
      "metadata": {
        "id": "8SZQdY9n60A6"
      },
      "source": [
        "GitHub Issues is a tool for tracking the steps in developing your repo. It is quite helpful, particularly when working in a team and in need of a list of tasks to carry out. \n",
        "\n",
        "Each issue can be assigned a label/tag to define whether it is related to fixing a problem or adding new features... You can even create new tags.\n",
        "\n",
        "To create issues, the following steps are required: \n",
        "- Click on the 'Issues' tab on your repo page."
      ]
    },
    {
      "cell_type": "markdown",
      "metadata": {
        "id": "EvQuKsOW60A6"
      },
      "source": [
        "<p align=center><img src=https://github.com/AI-Core/Content-Public/blob/main/units/Essentials/1.%20Git%20%26%20GitHub/1.%20What%20is%20Github%3F/images/issues_1.png?raw=1 width=600></p>"
      ]
    },
    {
      "cell_type": "markdown",
      "metadata": {
        "id": "F2BiLaUy60A6"
      },
      "source": [
        "- Click on the green button labelled 'New issue'. \n",
        "- In the next window, you can add a title and a description to your issue. \n",
        "- Additionally, you can assign a tag to your issue, and allocate it to someone in your team for fixing. \n",
        "\n",
        "<p align=center><img src=https://github.com/AI-Core/Content-Public/blob/main/units/Essentials/1.%20Git%20%26%20GitHub/1.%20What%20is%20Github%3F/images/issues_2.png?raw=1 width=600></p>"
      ]
    },
    {
      "cell_type": "markdown",
      "metadata": {
        "id": "i5q9KK-z60A7"
      },
      "source": [
        "- Upon completion, click on 'Submit new issue'. You will be redirected to a summary page of the issue. (Please note the issue number (Issue #7 in our case), as this information will come in handy shortly.\n",
        "\n",
        "- At this point, we can close the issue by clicking on 'Close issue'.\n",
        "\n",
        "<p align=center><img src=https://github.com/AI-Core/Content-Public/blob/main/units/Essentials/1.%20Git%20%26%20GitHub/1.%20What%20is%20Github%3F/images/issues_3.png?raw=1 width=600></p>"
      ]
    },
    {
      "cell_type": "markdown",
      "metadata": {
        "id": "k2Zn2zZ560A7"
      },
      "source": [
        "\n",
        "\n",
        "However, it is preferable to use a keyword, followed by the number of the issue in a commit message. These keywords include\n",
        "\n",
        "`close, closes, closed, fix, fixes, fixed, resolve, resolves and resolved`.\n",
        "\n",
        "For example, if we make a commit and add the following message, `'Add issues content. This fix #7'`, the relevant issue (i.e. Issue #7) will be automatically closed. This is a pretty convenient function. Consider experimenting on this to attain a good grasp.\n"
      ]
    },
    {
      "cell_type": "markdown",
      "metadata": {
        "id": "s35ZsB-760A7"
      },
      "source": [
        "## Exercise"
      ]
    },
    {
      "cell_type": "markdown",
      "metadata": {
        "id": "q7QLswCA60A7"
      },
      "source": [
        "Please follow these simple steps to set up your GitHub repo.\n",
        "\n",
        "1. Create a new GitHub repo.\n",
        "    - Give it a name of your choosing, such as 'Test'.\n",
        "    - Tick the 'Add README' box.\n",
        "2. Add an issue to your repo.\n",
        "    - Do not focus on the name or the body.\n",
        "    - Most likely, the issue will be Issue #1.\n",
        "3. Clone the repo in your local machine.\n",
        "    - Copy the URL of your repo following the directions provided earlier.\n",
        "    - Run the `git clone` command in your terminal.\n",
        "4. Change the directory to the cloned repo.\n",
        "5. Create a new branch named 'testing', and switch to it.\n",
        "    - Use the `git checkout -b` command.\n",
        "6. Create a new file named 'test.txt'.\n",
        "7. Stage and commit the changes.\n",
        "8. Push the changes to GitHub.\n",
        "    - Use the `git push` command.\n",
        "9. Go back to GitHub, and inspect your branches.\n",
        "10. Make a PR to merge the testing branch into the main.\n",
        "    - Go to the PR tab.\n",
        "    - Click on 'New Pull Request'.\n",
        "    - Ensure that you are merging the testing branch into the main, as shown in the figure:\n",
        "\n",
        "<p align=center><img src=https://github.com/AI-Core/Content-Public/blob/main/units/Essentials/1.%20Git%20%26%20GitHub/1.%20What%20is%20Github%3F/images/PR.png?raw=1 width=600></p>\n",
        "\n",
        "11. If all goes well, the 'Merge Pull Request' button should be green, allowing you to merge both branches with a message.\n",
        "    - Use this message to close the issue you created earlier.\n",
        "    - In our case, we closed issue #7. Please modify the issue number accordingly. \n",
        "    - The message should include one of the keywords mentioned earlier, followed by the issue number.\n",
        "    - An illustration of these steps is shown in the figure below.\n",
        "\n",
        "<p align=center><img src=https://github.com/AI-Core/Content-Public/blob/main/units/Essentials/1.%20Git%20%26%20GitHub/1.%20What%20is%20Github%3F/images/PR_3.png?raw=1 width=600></p>"
      ]
    },
    {
      "cell_type": "markdown",
      "metadata": {
        "id": "UXDbrlFR60A7"
      },
      "source": [
        "12. Once you have clicked the 'Confirm Merge' button, inspect your issues.\n",
        "    - Go to the issues tab.\n",
        "    - Your issue should be gone."
      ]
    },
    {
      "cell_type": "markdown",
      "metadata": {
        "id": "WdlI1aAv60A8"
      },
      "source": [
        "## Configuring Git Locally\n",
        "\n",
        "To use most git features, you must provide your credentials. To do so, you can use the `git config` command, as follows:\n",
        "\n",
        "  - `git config --global user.name 'Your Name'`\n",
        "  - `git config --global user.email 'your@email.com'`\n",
        "\n",
        "Ensure that you use the same email address you used when creating your GitHub account.\n",
        "\n"
      ]
    },
    {
      "cell_type": "markdown",
      "metadata": {
        "id": "NuXoSwIg60A8"
      },
      "source": [
        "## Resources\n"
      ]
    },
    {
      "cell_type": "markdown",
      "metadata": {
        "id": "3B526Uyp60A8"
      },
      "source": [
        "- [GitHub documentation](https://docs.github.com/en) - same as above, but for GitHub."
      ]
    }
  ],
  "metadata": {
    "language_info": {
      "name": "python"
    },
    "orig_nbformat": 4,
    "colab": {
      "provenance": []
    }
  },
  "nbformat": 4,
  "nbformat_minor": 0
}