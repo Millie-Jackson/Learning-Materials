{
  "cells": [
    {
      "cell_type": "markdown",
      "id": "8e488a21",
      "metadata": {
        "id": "8e488a21"
      },
      "source": [
        "# Username List"
      ]
    },
    {
      "cell_type": "code",
      "execution_count": 28,
      "id": "9395e4bf",
      "metadata": {
        "id": "9395e4bf",
        "outputId": "4ddc3fd7-be24-422e-ed6b-6176cd58841a",
        "colab": {
          "base_uri": "https://localhost:8080/"
        }
      },
      "outputs": [
        {
          "output_type": "stream",
          "name": "stdout",
          "text": [
            "Downloading the marking system\n"
          ]
        }
      ],
      "source": [
        "#@title ### Run the following cell to download the necessary files for this practical { display-mode: \"form\" }\n",
        "#@markdown Don't worry about what's in this collapsed cell\n",
        "\n",
        "print('Downloading the marking system')\n",
        "!wget https://s3-eu-west-1.amazonaws.com/aicore-portal-public-prod-307050600709/practical_files/b2d5d233-0c3a-482d-8d4f-31ac6ac99240/marking_system.py -q -O marking_system.py\n",
        "import marking_system\n",
        "import importlib\n",
        "importlib.reload(marking_system)\n",
        "import sys\n",
        "ipython = get_ipython()\n",
        "def hide_traceback(exc_tuple=None, filename=None, tb_offset=None, exception_only=False, running_compiled_code=False):\n",
        "    etype, value, tb = sys.exc_info()\n",
        "    value.__cause__ = None  # suppress chained exceptions\n",
        "    return ipython._showtraceback(etype, \"❌ \" + f\"\u001b[91m{value}\", ipython.InteractiveTB.get_exception_only(etype, \"❌ \" + f\"\u001b[91m{value}\"))\n",
        "ipython.showtraceback = hide_traceback\n"
      ]
    },
    {
      "cell_type": "markdown",
      "id": "ca779da1",
      "metadata": {
        "id": "ca779da1"
      },
      "source": [
        "#### 1. Run the code block below to generate a list of 10 random usernames.\n",
        "\n",
        "Don't worry about understanding this code, as it covers concepts you have yet to learn. The code will just randomly generate a list of 10 usernames for us to work on."
      ]
    },
    {
      "cell_type": "code",
      "execution_count": 29,
      "id": "c4d75cae",
      "metadata": {
        "id": "c4d75cae",
        "outputId": "3e654d02-12b0-406d-8a8b-10c0760c77ca",
        "colab": {
          "base_uri": "https://localhost:8080/"
        }
      },
      "outputs": [
        {
          "output_type": "stream",
          "name": "stdout",
          "text": [
            "['1072r', 'fw26vie3', '65kbki', 'txif38', 'nq8l7t', '0fqu8ehxng', 'mbp109bi', 'xsas9', 'i35u8x', 'whe18f0']\n"
          ]
        }
      ],
      "source": [
        "import random\n",
        "import string\n",
        "\n",
        "usernames = []\n",
        "\n",
        "for i in range(10):\n",
        "    length = random.randint(5, 10)\n",
        "    username = ''.join(random.choices(string.ascii_lowercase + string.digits, k=length))\n",
        "    usernames.append(username)\n",
        "\n",
        "print(usernames)\n"
      ]
    },
    {
      "cell_type": "markdown",
      "id": "a881f51a",
      "metadata": {
        "id": "a881f51a"
      },
      "source": [
        "#### 2. Print the type of `usernames`"
      ]
    },
    {
      "cell_type": "code",
      "execution_count": 30,
      "id": "b7f8cf28",
      "metadata": {
        "id": "b7f8cf28",
        "outputId": "4771d891-5903-49df-be78-c4c14e2565cc",
        "colab": {
          "base_uri": "https://localhost:8080/"
        }
      },
      "outputs": [
        {
          "output_type": "stream",
          "name": "stdout",
          "text": [
            "<class 'list'>\n"
          ]
        }
      ],
      "source": [
        "# TODO - print the type of the variable `usernames`\n",
        "print(type(usernames))\n"
      ]
    },
    {
      "cell_type": "code",
      "execution_count": 31,
      "id": "9dc7a8ff",
      "metadata": {
        "id": "9dc7a8ff",
        "outputId": "6cc52ac7-01ef-41d4-829c-820a39c757e6",
        "colab": {
          "base_uri": "https://localhost:8080/"
        }
      },
      "outputs": [
        {
          "output_type": "stream",
          "name": "stdout",
          "text": [
            "\u001b[92m✔ Well done! The variable 'usernames' is a list.\n"
          ]
        }
      ],
      "source": [
        "#@title #### Enter your solution here { display-mode: \"form\", run: \"auto\" }\n",
        "\n",
        "#@markdown What is the type of the variable `usernames`?\n",
        "usernames_type = \"list\" #@param [\"str\", \"int\", \"float\", \"bool\", \"list\", \"tuple\", \"dict\", \"other\", \"\"]\n",
        "\n",
        "marking_system.check_step_1(usernames_type)\n"
      ]
    },
    {
      "cell_type": "markdown",
      "id": "8ab1741d",
      "metadata": {
        "id": "8ab1741d"
      },
      "source": [
        "#### 3. Print the length of `usernames`"
      ]
    },
    {
      "cell_type": "code",
      "execution_count": 32,
      "id": "89e7e3cc",
      "metadata": {
        "id": "89e7e3cc",
        "outputId": "3843b01a-cf2e-4849-8502-036ffb04a821",
        "colab": {
          "base_uri": "https://localhost:8080/"
        }
      },
      "outputs": [
        {
          "output_type": "stream",
          "name": "stdout",
          "text": [
            "10\n"
          ]
        }
      ],
      "source": [
        "# TODO - print the length of the variable `usernames`\n",
        "print(len(usernames))\n"
      ]
    },
    {
      "cell_type": "code",
      "execution_count": 33,
      "id": "b6d388ad",
      "metadata": {
        "id": "b6d388ad",
        "outputId": "fc29051e-4789-49bf-a075-5aa8b4b262ca",
        "colab": {
          "base_uri": "https://localhost:8080/"
        }
      },
      "outputs": [
        {
          "output_type": "stream",
          "name": "stdout",
          "text": [
            "\u001b[92m✔ Well done! The length of the list 'usernames' is correct.\n"
          ]
        }
      ],
      "source": [
        "#@title #### Enter your solution here { display-mode: \"form\", run: \"auto\" }\n",
        "\n",
        "assert \"usernames\" in globals(), \"The variable 'usernames' does not exist. Please, make sure you have defined it\"\n",
        "\n",
        "#@markdown What is the length of the variable `usernames`?\n",
        "usernames_len = 10 #@param {type:\"number\"}\n",
        "\n",
        "marking_system.check_step_2(usernames, usernames_len)\n"
      ]
    },
    {
      "cell_type": "markdown",
      "id": "cd3d2141",
      "metadata": {
        "id": "cd3d2141"
      },
      "source": [
        "#### 4. Print the type of the first item in `usernames`"
      ]
    },
    {
      "cell_type": "code",
      "execution_count": 34,
      "id": "f09f8d31",
      "metadata": {
        "id": "f09f8d31",
        "outputId": "0c56cadd-8b00-486a-a7d0-e72b1cb671b9",
        "colab": {
          "base_uri": "https://localhost:8080/"
        }
      },
      "outputs": [
        {
          "output_type": "stream",
          "name": "stdout",
          "text": [
            "<class 'str'>\n"
          ]
        }
      ],
      "source": [
        "# TODO - Print the type of the first item in `usernames`\n",
        "print(type(usernames[0]))\n"
      ]
    },
    {
      "cell_type": "code",
      "execution_count": 35,
      "id": "1f9be97d",
      "metadata": {
        "id": "1f9be97d",
        "outputId": "987e0968-5628-4b7b-9615-3da9b3eec420",
        "colab": {
          "base_uri": "https://localhost:8080/"
        }
      },
      "outputs": [
        {
          "output_type": "stream",
          "name": "stdout",
          "text": [
            "\u001b[92m✔ Well done! The variable 'username' is a string. In this case, you have a list of strings, but lists can contain any type of data.\n"
          ]
        }
      ],
      "source": [
        "#@title #### Enter your solution here { display-mode: \"form\", run: \"auto\" }\n",
        "\n",
        "#@markdown What is the type of the first item in `usernames`?\n",
        "username_type = \"str\" #@param [\"str\", \"int\", \"float\", \"bool\", \"list\", \"tuple\", \"dict\", \"other\", \"\"]\n",
        "\n",
        "marking_system.check_step_3(username_type)\n"
      ]
    },
    {
      "cell_type": "markdown",
      "id": "9d14680c",
      "metadata": {
        "id": "9d14680c"
      },
      "source": [
        "#### 5. Create a new list called `usernames_2`, consisting of the last 5 elements of `usernames`.\n",
        "\n",
        "To do so, you will need to use slicing (i.e. `usernames[first_index:last_index]`)"
      ]
    },
    {
      "cell_type": "code",
      "execution_count": 36,
      "id": "c2971d97",
      "metadata": {
        "id": "c2971d97"
      },
      "outputs": [],
      "source": [
        "usernames_2 = usernames[-5:]\n",
        "\n"
      ]
    },
    {
      "cell_type": "markdown",
      "id": "fa16f654",
      "metadata": {
        "id": "fa16f654"
      },
      "source": [
        "#### 6. Remove the 2nd element of `usernames_2` from the list and assign it to a variable called `user_example`.\n",
        "\n",
        "You can use the `pop()` method to remove an element from a list and assign it to a variable. Once you have removed the element, print the list to check that it has been removed."
      ]
    },
    {
      "cell_type": "code",
      "execution_count": 37,
      "id": "cc13967a",
      "metadata": {
        "id": "cc13967a",
        "outputId": "8e489a38-2892-4270-976c-e918fd6ea6e6",
        "colab": {
          "base_uri": "https://localhost:8080/"
        }
      },
      "outputs": [
        {
          "output_type": "stream",
          "name": "stdout",
          "text": [
            "mbp109bi\n"
          ]
        }
      ],
      "source": [
        "# TODO - Remove the 2nd element of usernames from the list and assign it to a variable called user_example\n",
        "# TODO - Print the list usernames_2\n",
        "user_example = usernames_2.pop(1)\n",
        "print(user_example)\n"
      ]
    },
    {
      "cell_type": "code",
      "execution_count": 38,
      "id": "361b0b48",
      "metadata": {
        "id": "361b0b48",
        "outputId": "7bf4f372-f9ea-4a17-a1fa-5f1f6b131381",
        "colab": {
          "base_uri": "https://localhost:8080/"
        }
      },
      "outputs": [
        {
          "output_type": "stream",
          "name": "stdout",
          "text": [
            "\u001b[92m✔ Well done! You have successfully popped the second element of 'usernames_2' and stored it in the variable 'user_example'.\n"
          ]
        }
      ],
      "source": [
        "#@title #### Run this cell to check your code { display-mode: \"form\", run: \"auto\" }\n",
        "\n",
        "assert \"usernames\" in globals(), \"The variable 'usernames' does not exist. Please, rerun the cell in step 1 to create the variable 'usernames'.\"\n",
        "assert \"usernames_2\" in globals(), \"The variable 'usernames_2' does not exist. Please, make sure you have defined it\"\n",
        "assert \"user_example\" in globals(), \"The variable 'user_example' does not exist. Please, make sure you have defined it\"\n",
        "\n",
        "marking_system.check_step_4(usernames, usernames_2, user_example)\n"
      ]
    },
    {
      "cell_type": "markdown",
      "id": "fd9a14a2",
      "metadata": {
        "id": "fd9a14a2"
      },
      "source": [
        "#### 7. Use the `.sort()` method to sort the elements of `usernames` alphabetically.\n",
        "\n",
        "Notice that after using the sort method, the list is sorted in place. This means that the list is permanently changed."
      ]
    },
    {
      "cell_type": "code",
      "execution_count": 39,
      "id": "1361c70c",
      "metadata": {
        "id": "1361c70c",
        "outputId": "c8c5bff7-4633-42bb-e04a-c39cdd58cc54",
        "colab": {
          "base_uri": "https://localhost:8080/"
        }
      },
      "outputs": [
        {
          "output_type": "stream",
          "name": "stdout",
          "text": [
            "['0fqu8ehxng', '1072r', '65kbki', 'fw26vie3', 'i35u8x', 'mbp109bi', 'nq8l7t', 'txif38', 'whe18f0', 'xsas9']\n"
          ]
        }
      ],
      "source": [
        "# TODO - Use the `.sort()` method to sort the elements of `usernames` alphabetically.\n",
        "# TODO - Print `usernames`\n",
        "usernames.sort()\n",
        "print(usernames)\n"
      ]
    },
    {
      "cell_type": "code",
      "execution_count": 40,
      "id": "cbf5e55a",
      "metadata": {
        "id": "cbf5e55a",
        "outputId": "09d4d92d-9090-4dc6-fb9c-c8419c6a6c03",
        "colab": {
          "base_uri": "https://localhost:8080/"
        }
      },
      "outputs": [
        {
          "output_type": "stream",
          "name": "stdout",
          "text": [
            "\u001b[92m✔ Well done! You have successfully sorted the list 'usernames'.\n"
          ]
        }
      ],
      "source": [
        "#@title #### Run this cell to check your code { display-mode: \"form\", run: \"auto\" }\n",
        "\n",
        "assert \"usernames\" in globals(), \"The variable 'usernames' does not exist. Please, rerun the cell in step 1 to create the variable 'usernames'.\"\n",
        "\n",
        "marking_system.check_step_5(usernames)\n"
      ]
    },
    {
      "cell_type": "markdown",
      "id": "14c77ef2",
      "metadata": {
        "id": "14c77ef2"
      },
      "source": [
        "#### 8. Using the `index()` method, make the list entry corresponding to `user_example` uppercase.\n",
        "\n",
        "For example, if `user_example` is `user123user`, the code should return `USER123USER`.\n",
        "\n",
        "First, create a variable called `idx_user_example` and assign it the index of `user_example` in the list.\n",
        "\n",
        "Then, retrieve the element at the index `idx_user_example`, uppercase it, and assign it to the variable `upper_user_example`.\n",
        "\n",
        "Finally, replace the element at the index `idx_user_example` with `upper_user_example`."
      ]
    },
    {
      "cell_type": "code",
      "execution_count": 47,
      "id": "4c69927b",
      "metadata": {
        "id": "4c69927b",
        "outputId": "ab86bce4-9167-4eb8-abd8-43758c1e8f1a",
        "colab": {
          "base_uri": "https://localhost:8080/"
        }
      },
      "outputs": [
        {
          "output_type": "stream",
          "name": "stdout",
          "text": [
            "['0fqu8ehxng', '1072r', '65kbki', 'fw26vie3', 'i35u8x', 'MBP109BI', 'nq8l7t', 'txif38', 'whe18f0', 'xsas9']\n"
          ]
        }
      ],
      "source": [
        "# TODO - Using the `index()` method, find the index of `user_example` in `usernames` and assign it to a variable called `idx_user_example`.\n",
        "idx_user_example = usernames.index(user_example)\n",
        "# TODO - Using the index of `user_example`, retrieve the corresponding element from `usernames`, convert it to uppercase and assign it to a variable called `upper_user_example`.\n",
        "upper_user_example = usernames[idx_user_example].upper()\n",
        "# TODO - Using the index of `user_example`, replace the corresponding element in `usernames` with `upper_user_example`.\n",
        "usernames[idx_user_example] = upper_user_example\n",
        "print(usernames)\n"
      ]
    },
    {
      "cell_type": "code",
      "execution_count": 48,
      "id": "522f751c",
      "metadata": {
        "id": "522f751c",
        "outputId": "1add9200-93b2-474b-80b5-4b978253d7a5",
        "colab": {
          "base_uri": "https://localhost:8080/"
        }
      },
      "outputs": [
        {
          "output_type": "stream",
          "name": "stdout",
          "text": [
            "\u001b[92m✔ Well done! You have successfully replaced the element in the list 'usernames' with the upper case version.\n"
          ]
        }
      ],
      "source": [
        "#@title #### Run this cell to check your code { display-mode: \"form\", run: \"auto\" }\n",
        "\n",
        "assert \"idx_user_example\" in globals(), \"The variable 'idx_user_example' does not exist. Please, make sure you have defined it\"\n",
        "assert \"upper_user_example\" in globals(), \"The variable 'upper_user_example' does not exist. Please, make sure you have defined it\"\n",
        "assert \"usernames\" in globals(), \"The variable 'usernames' does not exist. Run the cell in step 1 to create the variable 'usernames'.\"\n",
        "\n",
        "marking_system.check_step_6(usernames, idx_user_example, upper_user_example)\n"
      ]
    }
  ],
  "metadata": {
    "kernelspec": {
      "display_name": "content-projects_new",
      "language": "python",
      "name": "python3"
    },
    "language_info": {
      "codemirror_mode": {
        "name": "ipython",
        "version": 3
      },
      "file_extension": ".py",
      "mimetype": "text/x-python",
      "name": "python",
      "nbconvert_exporter": "python",
      "pygments_lexer": "ipython3",
      "version": "3.10.8"
    },
    "vscode": {
      "interpreter": {
        "hash": "4b961f8166aad6ccb4cf65d0f9c742ef9c6c23ffe83ad932438cd83ed96aebaf"
      }
    },
    "colab": {
      "provenance": []
    }
  },
  "nbformat": 4,
  "nbformat_minor": 5
}