{
  "cells": [
    {
      "cell_type": "markdown",
      "metadata": {
        "id": "xl-yfFrj3E7_"
      },
      "source": [
        "# Tuples"
      ]
    },
    {
      "cell_type": "markdown",
      "metadata": {
        "id": "n66PkFyw3E8E"
      },
      "source": [
        "In Python, a tuple is an ordered collection of elements, enclosed in parentheses. It is similar to a list, but the main difference is that tuples are immutable, meaning they cannot be modified once created. Tuples can contain elements of different data types, such as integers, strings, floats, and even other tuples.\n",
        "\n",
        "## Motivation\n",
        "\n",
        "Welcome to your journey of learning about tuples in programming! Let's explore the key reasons why learning about tuples is valuable:\n",
        "- **Immutable Data Structure**: Tuples are like special containers that cannot be changed once you put things inside. Tuples are great when you want to make sure your data stays the same and doesn't accidentally get changed.\n",
        "\n",
        "- **Data Integrity and Safety**: Tuples help you keep your data intact and secure. You can use tuples to store related pieces of information that should always stay together. It's like having a special place to hold your important things, making sure they don't get mixed up or altered. Tuples provide safety and consistency in your programs.\n",
        "\n",
        "- **Efficient and Lightweight**: Tuples are smart and efficient. They take up less memory compared to other containers because they have a fixed size and don't need extra space to change. It's like having a perfectly-sized bag to carry your belongings without wasting any space. Tuples are a great choice when you need to be mindful of memory usage and want your program to run fast.\n",
        "\n",
        "Here's an example of a tuple:"
      ]
    },
    {
      "cell_type": "code",
      "execution_count": null,
      "metadata": {
        "id": "sAFRs7mq3E8G"
      },
      "outputs": [],
      "source": [
        "my_tuple = (1, 'apple', 3.14, ('nested', 'tuple'))"
      ]
    },
    {
      "cell_type": "markdown",
      "metadata": {
        "id": "E1Kt6jJi3E8I"
      },
      "source": [
        "In this example, `my_tuple` contains four elements: the integer `1`, the string `'apple'`, the float `3.14`, and a nested tuple `('nested', 'tuple')`.\n",
        "\n",
        "## Tuples Characteristics\n",
        "\n",
        "- **Ordered**: Tuples maintain the order of elements, which means the elements have a specific index associated with them. The order in which the elements are defined is the order they will be stored in the tuple.\n",
        "- **Immutable**: Tuples are immutable, which means their elements cannot be changed or reassigned after the tuple is created. Once a tuple is defined, its elements remain constant.\n",
        "\n",
        "> The immutability of tuples means that once a tuple is created, its elements cannot be modified. You cannot add, remove, or change individual elements of a tuple. If you attempt to modify a tuple, Python will raise a `TypeError`.\n",
        "\n",
        "- **Heterogeneous**: Tuples can contain elements of different data types. For example, a tuple can include an integer, a string, and a float all in one collection.\n",
        "- **Allow duplicate values**: Tuples can contain duplicate values. It is possible to have multiple elements with the same value in a tuple."
      ]
    },
    {
      "cell_type": "markdown",
      "metadata": {
        "id": "IpUUy9eA3E8J"
      },
      "source": [
        "## Creating a Tuple\n",
        "\n",
        "In Python, there are several ways to create tuples. Let's explore the different methods:\n",
        "\n",
        "### Creating an Empty Tuple\n",
        "\n",
        "An empty tuple is a tuple with no elements. It can be created by using empty parentheses `()` or the `tuple()` constructor. Here's an example:"
      ]
    },
    {
      "cell_type": "code",
      "execution_count": null,
      "metadata": {
        "id": "NA4sKuvI3E8M"
      },
      "outputs": [],
      "source": [
        "empty_tuple = ()\n",
        "# or\n",
        "empty_tuple = tuple()"
      ]
    },
    {
      "cell_type": "markdown",
      "metadata": {
        "id": "O2Le-6s63E8N"
      },
      "source": [
        "### Creating a Tuple with Values\n",
        "\n",
        "To create a tuple with values, you can enclose the elements within parentheses. Each element should be separated by a comma. Here's an example:"
      ]
    },
    {
      "cell_type": "code",
      "execution_count": null,
      "metadata": {
        "id": "JRUNEvv83E8O"
      },
      "outputs": [],
      "source": [
        "fruits_tuple = ('apple', 'banana', 'orange')"
      ]
    },
    {
      "cell_type": "markdown",
      "metadata": {
        "id": "sZwOwdDt3E8Q"
      },
      "source": [
        "### Creating a Tuple with a Single Element\n",
        "\n",
        "Creating a tuple with a single element can be a bit tricky because Python treats parentheses as grouping symbols rather than defining a tuple with one element. To create a tuple with a single element, you need to include a trailing comma after the element. Here's an example:"
      ]
    },
    {
      "cell_type": "code",
      "execution_count": null,
      "metadata": {
        "id": "BCS3q9Gu3E8S",
        "outputId": "1cd3c51b-f85e-4983-b020-e6249e8496c5"
      },
      "outputs": [
        {
          "name": "stdout",
          "output_type": "stream",
          "text": [
            "<class 'str'>\n",
            "<class 'tuple'>\n"
          ]
        }
      ],
      "source": [
        "not_single_element_tuple = ('apple')\n",
        "single_element_tuple = ('apple',)\n",
        "\n",
        "print(type(not_single_element_tuple))\n",
        "print(type(single_element_tuple))"
      ]
    },
    {
      "cell_type": "markdown",
      "metadata": {
        "id": "wxN9xeZu3E8T"
      },
      "source": [
        "The trailing comma distinguishes it as a tuple with a single element, as opposed to just a string enclosed in parentheses. Without the comma, it would be interpreted as a string."
      ]
    },
    {
      "cell_type": "markdown",
      "metadata": {
        "id": "p7S3Nb8O3E8T"
      },
      "source": [
        "As mentioned, tuples are immutable, so you can't remove items from it"
      ]
    },
    {
      "cell_type": "markdown",
      "metadata": {
        "id": "U4yPdeXX3E8U"
      },
      "source": [
        "## Accessing Tuple Elements\n",
        "\n",
        "Once a tuple is created, you can access its elements using indexing or slicing.\n",
        "\n",
        "### Indexing\n",
        "\n",
        "Tuple elements are indexed starting from 0 for the first element, 1 for the second element, and so on. You can access a specific element of a tuple by specifying its index inside square brackets. Here's an example:"
      ]
    },
    {
      "cell_type": "code",
      "execution_count": null,
      "metadata": {
        "id": "NqhiqFeG3E8U",
        "outputId": "add74da8-5c40-487d-d1ed-8e76936d4744"
      },
      "outputs": [
        {
          "name": "stdout",
          "output_type": "stream",
          "text": [
            "apple\n",
            "orange\n"
          ]
        }
      ],
      "source": [
        "fruits_tuple = ('apple', 'banana', 'orange')\n",
        "print(fruits_tuple[0])  # Output: 'apple'\n",
        "print(fruits_tuple[2])  # Output: 'orange'"
      ]
    },
    {
      "cell_type": "markdown",
      "metadata": {
        "id": "J_c7nQyF3E8U"
      },
      "source": [
        "In this example, `fruits_tuple[0]` retrieves the first element of the tuple, which is `'apple'`, and `fruits_tuple[2]` retrieves the third element, which is `'orange'`.\n",
        "\n",
        "### Slicing\n",
        "\n",
        "Slicing allows you to extract a subset of elements from a tuple by specifying a range of indices. The syntax for slicing is `start_index`:`stop_index`:`step`. Here's an example:"
      ]
    },
    {
      "cell_type": "code",
      "execution_count": null,
      "metadata": {
        "id": "Xcs8DSOD3E8V",
        "outputId": "edb8f738-f699-4b47-9c8c-364e649ce2a0"
      },
      "outputs": [
        {
          "name": "stdout",
          "output_type": "stream",
          "text": [
            "('banana', 'orange', 'kiwi')\n",
            "('apple', 'orange', 'mango')\n"
          ]
        }
      ],
      "source": [
        "fruits_tuple = ('apple', 'banana', 'orange', 'kiwi', 'mango')\n",
        "print(fruits_tuple[1:4])    # Output: ('banana', 'orange', 'kiwi')\n",
        "print(fruits_tuple[::2])    # Output: ('apple', 'orange', 'mango')"
      ]
    },
    {
      "cell_type": "markdown",
      "metadata": {
        "id": "ZG8tWQp03E8V"
      },
      "source": [
        "In this example, `fruits_tuple[1:4]` retrieves elements from index `1` up to, but not including, index `4`. `fruits_tuple[::2]` retrieves elements with a step of `2`, skipping every second element.\n",
        "\n",
        "## Tuple Operations\n",
        "\n",
        "### Concatenating Tuples\n",
        "\n",
        "Tuple concatenation refers to combining two or more tuples to create a new tuple. This can be done using the `+` operator. The result is a new tuple that contains all the elements from the original tuples in the order they were concatenated. Here's an example:"
      ]
    },
    {
      "cell_type": "code",
      "execution_count": null,
      "metadata": {
        "id": "i8p2YmQF3E8W",
        "outputId": "842e9239-2160-4b74-df46-42dd2bf60a29"
      },
      "outputs": [
        {
          "name": "stdout",
          "output_type": "stream",
          "text": [
            "(1, 2, 3, 'a', 'b', 'c')\n"
          ]
        }
      ],
      "source": [
        "tuple1 = (1, 2, 3)\n",
        "tuple2 = ('a', 'b', 'c')\n",
        "concatenated_tuple = tuple1 + tuple2\n",
        "print(concatenated_tuple)  # Output: (1, 2, 3, 'a', 'b', 'c')"
      ]
    },
    {
      "cell_type": "markdown",
      "metadata": {
        "id": "G-F2tLI23E8W"
      },
      "source": [
        "### Replicating Tuples\n",
        "\n",
        "Tuple replication, also known as tuple repetition or tuple multiplication, involves creating a new tuple by repeating the elements of an existing tuple a specified number of times. This can be achieved using the `*` operator. Here's an example:"
      ]
    },
    {
      "cell_type": "code",
      "execution_count": null,
      "metadata": {
        "id": "8L_te3pt3E8X",
        "outputId": "fcd84370-29c6-4af0-b7d0-cb3d20f65fa3"
      },
      "outputs": [
        {
          "name": "stdout",
          "output_type": "stream",
          "text": [
            "(1, 2, 3, 1, 2, 3, 1, 2, 3)\n"
          ]
        }
      ],
      "source": [
        "tuple1 = (1, 2, 3)\n",
        "replicated_tuple = tuple1 * 3\n",
        "print(replicated_tuple)  # Output: (1, 2, 3, 1, 2, 3, 1, 2, 3)"
      ]
    },
    {
      "cell_type": "markdown",
      "metadata": {
        "id": "4A_r3ltM3E8X"
      },
      "source": [
        "### Comparing Tuples\n",
        "\n",
        "Tuples in Python can be compared using comparison operators such as `<`, `>`, `<=`, `>=`, `==`, and `!=`. The comparison is performed element-wise, comparing each corresponding pair of elements from the tuples. Here's an example:"
      ]
    },
    {
      "cell_type": "code",
      "execution_count": null,
      "metadata": {
        "id": "48NVkBWr3E8X",
        "outputId": "5a025c86-d18b-4318-e67e-29a5cd39d4e9"
      },
      "outputs": [
        {
          "name": "stdout",
          "output_type": "stream",
          "text": [
            "True\n",
            "False\n"
          ]
        }
      ],
      "source": [
        "tuple1 = (1, 2, 3)\n",
        "tuple2 = (4, 5, 6)\n",
        "print(tuple1 < tuple2)    # Output: True\n",
        "print(tuple1 == tuple2)   # Output: False"
      ]
    },
    {
      "cell_type": "markdown",
      "metadata": {
        "id": "H5U_6gPX3E8Y"
      },
      "source": [
        "### Finding Length of a Tuple\n",
        "\n",
        "The length of a tuple can be determined using the `len()` function. It returns the number of elements present in the tuple. Here's an example:"
      ]
    },
    {
      "cell_type": "code",
      "execution_count": null,
      "metadata": {
        "id": "eN-FQvos3E8Y",
        "outputId": "6a4b6474-c542-485b-aeca-d0bc5997073d"
      },
      "outputs": [
        {
          "name": "stdout",
          "output_type": "stream",
          "text": [
            "5\n"
          ]
        }
      ],
      "source": [
        "tuple1 = (1, 2, 3, 4, 5)\n",
        "length = len(tuple1)\n",
        "print(length)  # Output: 5"
      ]
    },
    {
      "cell_type": "markdown",
      "metadata": {
        "id": "F1RLMWN33E8Y"
      },
      "source": [
        "### Membership Testing in a Tuple\n",
        "\n",
        "You can check if an element is present in a tuple using the `in` and `not in` operators. These operators return a boolean value indicating whether the element exists in the tuple or not. Here's an example:"
      ]
    },
    {
      "cell_type": "code",
      "execution_count": null,
      "metadata": {
        "id": "WxSNFHWq3E8Z",
        "outputId": "0b556f68-0326-4282-ebb0-e5e4508d0ab8"
      },
      "outputs": [
        {
          "name": "stdout",
          "output_type": "stream",
          "text": [
            "True\n",
            "True\n"
          ]
        }
      ],
      "source": [
        "tuple1 = (1, 2, 3)\n",
        "print(2 in tuple1)        # Output: True\n",
        "print('a' not in tuple1)  # Output: True"
      ]
    },
    {
      "cell_type": "markdown",
      "metadata": {
        "id": "ui-tm30O3E8Z"
      },
      "source": [
        "## Modifying Tuples\n",
        "\n",
        "###  Immutable Nature of Tuples\n",
        "\n",
        "Tuples are immutable in Python, meaning they cannot be modified once created. This immutability ensures that the values within a tuple remain constant throughout its lifetime. It prevents adding, removing, or changing individual elements of a tuple directly. If you attempt to modify a tuple, Python will raise a `TypeError`. Here's an example:"
      ]
    },
    {
      "cell_type": "code",
      "execution_count": null,
      "metadata": {
        "id": "92HESOTr3E8Z",
        "outputId": "5e6b8ef7-bf7c-48cb-d4a5-8490ffdb4dde"
      },
      "outputs": [
        {
          "ename": "TypeError",
          "evalue": "'tuple' object does not support item assignment",
          "output_type": "error",
          "traceback": [
            "\u001b[0;31m---------------------------------------------------------------------------\u001b[0m",
            "\u001b[0;31mTypeError\u001b[0m                                 Traceback (most recent call last)",
            "\u001b[1;32m/Users/maya/Desktop/AiCore Work/Content-Projects/Content/units/Essentials/7. Python programming/12. Tuples/Notebook.ipynb Cell 28\u001b[0m in \u001b[0;36m<cell line: 2>\u001b[0;34m()\u001b[0m\n\u001b[1;32m      <a href='vscode-notebook-cell:/Users/maya/Desktop/AiCore%20Work/Content-Projects/Content/units/Essentials/7.%20Python%20programming/12.%20Tuples/Notebook.ipynb#Y102sZmlsZQ%3D%3D?line=0'>1</a>\u001b[0m my_tuple \u001b[39m=\u001b[39m (\u001b[39m1\u001b[39m, \u001b[39m2\u001b[39m, \u001b[39m3\u001b[39m)\n\u001b[0;32m----> <a href='vscode-notebook-cell:/Users/maya/Desktop/AiCore%20Work/Content-Projects/Content/units/Essentials/7.%20Python%20programming/12.%20Tuples/Notebook.ipynb#Y102sZmlsZQ%3D%3D?line=1'>2</a>\u001b[0m my_tuple[\u001b[39m0\u001b[39m] \u001b[39m=\u001b[39m \u001b[39m4\u001b[39m\n",
            "\u001b[0;31mTypeError\u001b[0m: 'tuple' object does not support item assignment"
          ]
        }
      ],
      "source": [
        "my_tuple = (1, 2, 3)\n",
        "my_tuple[0] = 4  # Raises TypeError: 'tuple' object does not support item assignment"
      ]
    },
    {
      "cell_type": "markdown",
      "metadata": {
        "id": "7_bs6EhR3E8Z"
      },
      "source": [
        "### Converting Tuples to Lists\n",
        "\n",
        "Although tuples are immutable, you can convert them to lists, which are mutable, to modify the elements. The `list()` function can be used to convert a tuple to a list. Here's an example:"
      ]
    },
    {
      "cell_type": "code",
      "execution_count": null,
      "metadata": {
        "id": "vAFxlozR3E8a",
        "outputId": "2bd879a2-06d3-406c-e1ef-e98a88493ecb"
      },
      "outputs": [
        {
          "name": "stdout",
          "output_type": "stream",
          "text": [
            "[4, 2, 3]\n"
          ]
        }
      ],
      "source": [
        "my_tuple = (1, 2, 3)\n",
        "my_list = list(my_tuple)\n",
        "my_list[0] = 4\n",
        "print(my_list)   # Output: [4, 2, 3]"
      ]
    },
    {
      "cell_type": "markdown",
      "metadata": {
        "id": "XP0MolKo3E8a"
      },
      "source": [
        "### Modifying Tuple Elements\n",
        "\n",
        "While you cannot directly modify elements of a tuple, you can create a new tuple with modified elements. This involves creating a new tuple by combining desired elements from the original tuple with new values. Here's an example:"
      ]
    },
    {
      "cell_type": "code",
      "execution_count": null,
      "metadata": {
        "id": "qan0eZWK3E8a",
        "outputId": "8667dfaf-e3c2-403c-f6b9-8b72eaf74509"
      },
      "outputs": [
        {
          "name": "stdout",
          "output_type": "stream",
          "text": [
            "(1, 5, 3)\n"
          ]
        }
      ],
      "source": [
        "my_tuple = (1, 2, 3)\n",
        "modified_tuple = (my_tuple[0], 5, my_tuple[2])\n",
        "print(modified_tuple)   # Output: (1, 5, 3)"
      ]
    },
    {
      "cell_type": "markdown",
      "metadata": {
        "id": "B-NPRig53E8a"
      },
      "source": [
        "### Tuple Packing and Unpacking\n",
        "\n",
        "> Tuple packing refers to the process of combining multiple values into a tuple. Unpacking, on the other hand, involves assigning the elements of a tuple to multiple variables simultaneously.Tuple packing and unpacking can be used to modify tuple elements indirectly.\n",
        "\n",
        "Tuple packing is achieved by placing the values separated by commas without any parentheses. Here's an example:"
      ]
    },
    {
      "cell_type": "code",
      "execution_count": null,
      "metadata": {
        "id": "vL0Cwptv3E8a",
        "outputId": "c9d25860-816d-47ce-9262-5ba745d29d9d"
      },
      "outputs": [
        {
          "name": "stdout",
          "output_type": "stream",
          "text": [
            "(1, 2, 'apple')\n"
          ]
        }
      ],
      "source": [
        "my_tuple = 1, 2, 'apple'\n",
        "print(my_tuple)  # Output: (1, 2, 'apple')"
      ]
    },
    {
      "cell_type": "markdown",
      "metadata": {
        "id": "Ik_6zg3h3E8b"
      },
      "source": [
        "In this example, the values `1`, `2`, and `'apple'` are packed into a tuple `my_tuple`.\n",
        "\n",
        "Tuple unpacking is done by assigning the tuple to the variables separated by commas. Here's an example:"
      ]
    },
    {
      "cell_type": "code",
      "execution_count": null,
      "metadata": {
        "id": "BDdWCi1Z3E8b",
        "outputId": "d6880c2e-40a3-40c2-a624-995496bbd182"
      },
      "outputs": [
        {
          "name": "stdout",
          "output_type": "stream",
          "text": [
            "1\n",
            "2\n",
            "3\n"
          ]
        }
      ],
      "source": [
        "my_tuple = (1, 2, 3)\n",
        "a, b, c = my_tuple\n",
        "print(a)  # Output: 1\n",
        "print(b)  # Output: 2\n",
        "print(c)  # Output: 3"
      ]
    },
    {
      "cell_type": "markdown",
      "metadata": {
        "id": "6LXW6LYi3E8b"
      },
      "source": [
        "In this example, the elements of `my_tuple` are unpacked and assigned to variables `a`, `b`, and `c` respectively.\n",
        "\n",
        "## Tuples Methods\n",
        "\n",
        "### `count()` method\n",
        "\n",
        "The `count()` method is used to count the number of occurrences of a specific value in a tuple. It takes a single argument, which is the value to be counted, and returns the count as an integer. Here's an example:"
      ]
    },
    {
      "cell_type": "code",
      "execution_count": null,
      "metadata": {
        "id": "LOJXckzd3E8b",
        "outputId": "f7c955bb-0a25-45c3-d920-a3d2424b975b"
      },
      "outputs": [
        {
          "name": "stdout",
          "output_type": "stream",
          "text": [
            "4\n"
          ]
        }
      ],
      "source": [
        "my_tuple = (1, 2, 2, 3, 2, 4, 2)\n",
        "count_of_2 = my_tuple.count(2)\n",
        "print(count_of_2)  # Output: 4"
      ]
    },
    {
      "cell_type": "markdown",
      "metadata": {
        "id": "wpKIL3ei3E8c"
      },
      "source": [
        "### `index()` method\n",
        "\n",
        "The `index()` method is used to find the index of the first occurrence of a specific value in a tuple. It takes a single argument, which is the value to be searched, and returns the index of the first occurrence. Here's an example:"
      ]
    },
    {
      "cell_type": "code",
      "execution_count": null,
      "metadata": {
        "id": "QN20sivs3E8w",
        "outputId": "d69b4a53-f13f-4b1d-b416-7897c73516b5"
      },
      "outputs": [
        {
          "name": "stdout",
          "output_type": "stream",
          "text": [
            "1\n"
          ]
        }
      ],
      "source": [
        "my_tuple = (1, 2, 2, 3, 2, 4, 2)\n",
        "index_of_2 = my_tuple.index(2)\n",
        "print(index_of_2)  # Output: 1"
      ]
    },
    {
      "cell_type": "markdown",
      "metadata": {
        "id": "SqSPV6hQ3E8w"
      },
      "source": [
        "In this example, the `index()` method is applied to `my_tuple` to find the index of the first occurrence of the value `2`. The `index_of_2` variable will hold the value `1`, indicating that the value `2` is first found at index `1` in the tuple.\n",
        "\n",
        "If the specified value is not found in the tuple, the `index()` method raises a `ValueError`."
      ]
    },
    {
      "cell_type": "markdown",
      "metadata": {
        "id": "HWkf6WGp3E8w"
      },
      "source": [
        "## Common Errors and Troubleshooting\n",
        "\n",
        "Working with tuples in Python can sometimes lead to errors or unexpected behavior. Here are some common errors you may encounter are:\n",
        "\n",
        "### `TypeError: 'tuple' object does not support item assignment`\n",
        "\n",
        "This error occurs when you try to modify an element of a tuple directly. Remember that tuples are immutable, meaning their elements cannot be changed after creation. To modify tuple elements, consider converting the tuple to a list, making the necessary modifications, and then converting it back to a tuple.\n",
        "\n",
        "### `ValueError: tuple.index(x): x not in tuple`\n",
        "\n",
        "The `ValueError` occurs when you use the `index()` method to find the index of a value that is not present in the tuple. Make sure the value you're searching for is actually present in the tuple before using the `index()` method. You can use the `count()` method to check if the value exists in the tuple.\n",
        "\n",
        "### Forgetting to include a comma in a single-element tuple\n",
        "\n",
        "In Python, a single-element tuple requires a trailing comma. Forgetting to include the comma may lead to unexpected behavior. For example:"
      ]
    },
    {
      "cell_type": "code",
      "execution_count": null,
      "metadata": {
        "id": "S2A8IDB23E8x",
        "outputId": "f50309a4-4f2f-41af-fa34-e3cb5865a41c"
      },
      "outputs": [
        {
          "name": "stdout",
          "output_type": "stream",
          "text": [
            "<class 'int'>\n"
          ]
        }
      ],
      "source": [
        "my_tuple = (1)\n",
        "print(type(my_tuple))  # Output: <class 'int'>"
      ]
    },
    {
      "cell_type": "markdown",
      "metadata": {
        "id": "Bia2_9B-3E8x"
      },
      "source": [
        "In this case, `my_tuple` is not a tuple but an integer. To create a single-element tuple, include a comma after the element:"
      ]
    },
    {
      "cell_type": "code",
      "execution_count": null,
      "metadata": {
        "id": "8OG00s4H3E8x",
        "outputId": "b539116e-414c-497d-9c7d-1d1073b37e04"
      },
      "outputs": [
        {
          "name": "stdout",
          "output_type": "stream",
          "text": [
            "<class 'tuple'>\n"
          ]
        }
      ],
      "source": [
        "my_tuple = (1,)\n",
        "print(type(my_tuple))  # Output: <class 'tuple'>"
      ]
    },
    {
      "cell_type": "markdown",
      "metadata": {
        "id": "EM_qOnuH3E8x"
      },
      "source": [
        "Now, `my_tuple` is a tuple with a single element.\n",
        "\n",
        "### Incorrect unpacking of tuples\n",
        "\n",
        "When using tuple unpacking, ensure that the number of variables matches the number of elements in the tuple. Otherwise, you'll encounter a `ValueError`. For example:"
      ]
    },
    {
      "cell_type": "code",
      "execution_count": null,
      "metadata": {
        "id": "_I0rPBWJ3E8y",
        "outputId": "20019e7d-f8a8-4b84-ce78-dc0f8668f940"
      },
      "outputs": [
        {
          "ename": "ValueError",
          "evalue": "too many values to unpack (expected 2)",
          "output_type": "error",
          "traceback": [
            "\u001b[0;31m---------------------------------------------------------------------------\u001b[0m",
            "\u001b[0;31mValueError\u001b[0m                                Traceback (most recent call last)",
            "\u001b[1;32m/Users/maya/Desktop/AiCore Work/Content-Projects/Content/units/Essentials/7. Python programming/12. Tuples/Notebook.ipynb Cell 47\u001b[0m in \u001b[0;36m<cell line: 2>\u001b[0;34m()\u001b[0m\n\u001b[1;32m      <a href='vscode-notebook-cell:/Users/maya/Desktop/AiCore%20Work/Content-Projects/Content/units/Essentials/7.%20Python%20programming/12.%20Tuples/Notebook.ipynb#Y133sZmlsZQ%3D%3D?line=0'>1</a>\u001b[0m my_tuple \u001b[39m=\u001b[39m (\u001b[39m1\u001b[39m, \u001b[39m2\u001b[39m, \u001b[39m3\u001b[39m)\n\u001b[0;32m----> <a href='vscode-notebook-cell:/Users/maya/Desktop/AiCore%20Work/Content-Projects/Content/units/Essentials/7.%20Python%20programming/12.%20Tuples/Notebook.ipynb#Y133sZmlsZQ%3D%3D?line=1'>2</a>\u001b[0m a, b \u001b[39m=\u001b[39m my_tuple\n",
            "\u001b[0;31mValueError\u001b[0m: too many values to unpack (expected 2)"
          ]
        }
      ],
      "source": [
        "my_tuple = (1, 2, 3)\n",
        "a, b = my_tuple  # Raises ValueError: too many values to unpack"
      ]
    },
    {
      "cell_type": "markdown",
      "metadata": {
        "id": "UCy7oIEn3E8y"
      },
      "source": [
        "In this case, there are more elements in `my_tuple` than the number of variables (`a` and `b`). To avoid this error, ensure that the number of variables matches the number of elements in the tuple.\n",
        "\n",
        "When encountering errors, carefully review your code, check for correct syntax, ensure proper use of tuple methods and operations, and verify the immutability and indexing of tuples. Python's error messages are usually informative and can help identify the issue."
      ]
    },
    {
      "cell_type": "markdown",
      "metadata": {
        "id": "mr3Zxz0x3E8y"
      },
      "source": [
        "## Key Takeaways\n",
        "\n",
        "- Tuples are ordered collections of elements enclosed in parentheses `( )` and separated by commas (`,`). They are immutable, meaning their elements cannot be modified once created.\n",
        "- Tuples can store elements of different types, support indexing and slicing operations for accessing elements, and can be nested within each other\n",
        "- Tuple packing and unpacking allow for efficient assignment and extraction of values from tuples\n",
        "- Tuples support various operations such as concatenation, replication, comparison, finding the length, and membership testing. These operations enable manipulation and analysis of tuples.\n",
        "- Although tuples are immutable, you can indirectly modify them by converting them to lists, creating new tuples with modified elements, or utilizing tuple packing and unpacking\n",
        "- Tuple methods like `count()` and `index()` provide useful functionalities for counting occurrences and finding indices of specific values within tuples"
      ]
    }
  ],
  "metadata": {
    "kernelspec": {
      "display_name": "Python 3.9.0 64-bit",
      "language": "python",
      "name": "python3"
    },
    "language_info": {
      "codemirror_mode": {
        "name": "ipython",
        "version": 3
      },
      "file_extension": ".py",
      "mimetype": "text/x-python",
      "name": "python",
      "nbconvert_exporter": "python",
      "pygments_lexer": "ipython3",
      "version": "3.9.2"
    },
    "vscode": {
      "interpreter": {
        "hash": "aee8b7b246df8f9039afb4144a1f6fd8d2ca17a180786b69acc140d282b71a49"
      }
    },
    "colab": {
      "provenance": []
    }
  },
  "nbformat": 4,
  "nbformat_minor": 0
}