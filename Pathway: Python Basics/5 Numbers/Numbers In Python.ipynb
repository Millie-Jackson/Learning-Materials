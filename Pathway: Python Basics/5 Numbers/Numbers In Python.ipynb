{
  "cells": [
    {
      "cell_type": "markdown",
      "metadata": {
        "id": "30vNc6wDIi1a"
      },
      "source": [
        "# Numbers in Python"
      ]
    },
    {
      "cell_type": "markdown",
      "metadata": {
        "id": "RVbjpdkTIi1f"
      },
      "source": [
        "## Learning Objectives\n",
        "- Understand the difference between integers and floats.\n",
        "- Understand the difference between None and int 0.\n",
        "- Learn how to use Python as a calculator."
      ]
    },
    {
      "cell_type": "markdown",
      "metadata": {
        "id": "tOk5DU-LIi1g"
      },
      "source": [
        "## Numbers Types\n",
        "- In Python, there are two types of numbers: \n",
        "    - integers (int)\n",
        "    - floating-point numbers (float)\n",
        "- Basically, \n",
        "    - an integer is 0 or a positive/negative whole number without a decimal point.\n",
        "    - a float is any number with a decimal point.\n",
        "- Due to the nature of floating-point calculations, floats are not exactly what you expect them to be; therefore, rounding is often applied."
      ]
    },
    {
      "cell_type": "markdown",
      "metadata": {
        "id": "T_im0_m3Ii1h"
      },
      "source": [
        "## Arithmetic Operations in Python\n",
        "- The standard mathematical operators, i.e. __/, *, + and −__, are applicable in Python. \n",
        "- The order of operations is BIDMAS.\n",
        "- The double asterisk (__\\*\\*__) is utilised for powers (roots are simply fractional powers).\n",
        "- Division always returns a float.\n",
        "- There are a couple of special operations:\n",
        "    - Modulo (x%y) outputs the remainder of dividing x by y.\n",
        "    - Floor division (x//y) outputs the result of dividing x by y, rounded down to the nearest integer.\n",
        "> Note that there should be a single space around an arithmetic operator when in use, unless the addition of the space reduces clarity and readability (e.g. A + B, not A+B)."
      ]
    },
    {
      "cell_type": "code",
      "execution_count": null,
      "metadata": {
        "id": "DKSzpauBIi1i",
        "outputId": "192fc33a-ea7f-43c8-8bd1-e3e24ab34b7c"
      },
      "outputs": [
        {
          "data": {
            "text/plain": [
              "3"
            ]
          },
          "execution_count": 1,
          "metadata": {},
          "output_type": "execute_result"
        }
      ],
      "source": [
        "# Addition\n",
        "2 + 1"
      ]
    },
    {
      "cell_type": "code",
      "execution_count": null,
      "metadata": {
        "id": "6s51-40wIi1k",
        "outputId": "92c7ef53-ffc6-4e41-aa40-38159b6fe99e"
      },
      "outputs": [
        {
          "data": {
            "text/plain": [
              "1"
            ]
          },
          "execution_count": 2,
          "metadata": {},
          "output_type": "execute_result"
        }
      ],
      "source": [
        "# Subtraction\n",
        "2 - 1"
      ]
    },
    {
      "cell_type": "code",
      "execution_count": null,
      "metadata": {
        "id": "FrwgOkwUIi1l",
        "outputId": "7a8e2f1a-3cc7-49ce-9e19-1197792d244d"
      },
      "outputs": [
        {
          "data": {
            "text/plain": [
              "4"
            ]
          },
          "execution_count": 3,
          "metadata": {},
          "output_type": "execute_result"
        }
      ],
      "source": [
        "# Multiplication\n",
        "2 * 2"
      ]
    },
    {
      "cell_type": "code",
      "execution_count": null,
      "metadata": {
        "id": "HOV1hii4Ii1n",
        "outputId": "4ba61cd7-5a87-429d-beb8-e47c12315589"
      },
      "outputs": [
        {
          "data": {
            "text/plain": [
              "10.0"
            ]
          },
          "execution_count": 4,
          "metadata": {},
          "output_type": "execute_result"
        }
      ],
      "source": [
        "# Division\n",
        "10 / 1"
      ]
    },
    {
      "cell_type": "markdown",
      "metadata": {
        "id": "gBmDPM3OIi1o"
      },
      "source": [
        "## Floor Division\n",
        "- This is occasionally referred to as integer division.\n",
        "- It rounds down the result of a division operation to the nearest integer.\n",
        "- It is performed using the double-backslash operator (//).\n"
      ]
    },
    {
      "cell_type": "code",
      "execution_count": null,
      "metadata": {
        "id": "1PWCdkeuIi1p",
        "outputId": "8b0a5b4c-d4e5-41b0-e45d-3833953a3405"
      },
      "outputs": [
        {
          "data": {
            "text/plain": [
              "1"
            ]
          },
          "execution_count": 6,
          "metadata": {},
          "output_type": "execute_result"
        }
      ],
      "source": [
        "7 // 4"
      ]
    },
    {
      "cell_type": "code",
      "execution_count": null,
      "metadata": {
        "id": "7PNvM6OAIi1q",
        "outputId": "5479793a-cd8e-462a-81f2-113bcb5a53cc"
      },
      "outputs": [
        {
          "data": {
            "text/plain": [
              "3"
            ]
          },
          "execution_count": 7,
          "metadata": {},
          "output_type": "execute_result"
        }
      ],
      "source": [
        "# Modulo\n",
        "7 % 4"
      ]
    },
    {
      "cell_type": "code",
      "execution_count": null,
      "metadata": {
        "id": "8G5KxqBZIi1r",
        "outputId": "3f83613c-b6d6-4bef-a88e-abf67e5a37ec"
      },
      "outputs": [
        {
          "data": {
            "text/plain": [
              "0"
            ]
          },
          "execution_count": 8,
          "metadata": {},
          "output_type": "execute_result"
        }
      ],
      "source": [
        "# If modulo 2 of a number is equal to zero, the number is an even number.\n",
        "6 % 2"
      ]
    },
    {
      "cell_type": "code",
      "execution_count": null,
      "metadata": {
        "id": "ppR9YO-BIi1r",
        "outputId": "5a5f3597-cf28-4266-8f8e-51eacbf8ac4d"
      },
      "outputs": [
        {
          "data": {
            "text/plain": [
              "8"
            ]
          },
          "execution_count": 9,
          "metadata": {},
          "output_type": "execute_result"
        }
      ],
      "source": [
        "# Powers\n",
        "2 ** 3"
      ]
    },
    {
      "cell_type": "code",
      "execution_count": null,
      "metadata": {
        "id": "Smo5dfgEIi1s",
        "outputId": "9163d152-f738-4fde-8bf8-b3ef28fa81cf"
      },
      "outputs": [
        {
          "data": {
            "text/plain": [
              "2.0"
            ]
          },
          "execution_count": 10,
          "metadata": {},
          "output_type": "execute_result"
        }
      ],
      "source": [
        "# roots can also be done this way.\n",
        "4 ** 0.5"
      ]
    },
    {
      "cell_type": "code",
      "execution_count": null,
      "metadata": {
        "id": "OwzCtB6WIi1t",
        "outputId": "491a0cd8-48bc-4ad8-b6f2-a9623f95bd0a"
      },
      "outputs": [
        {
          "data": {
            "text/plain": [
              "123"
            ]
          },
          "execution_count": 11,
          "metadata": {},
          "output_type": "execute_result"
        }
      ],
      "source": [
        "# Order of operations followed in Python\n",
        "(2 + 10) * 10 + 3"
      ]
    },
    {
      "cell_type": "code",
      "execution_count": null,
      "metadata": {
        "id": "v_A9iUA9Ii1u",
        "outputId": "6ea8081b-1b35-418e-82e3-553844bf4eb0"
      },
      "outputs": [
        {
          "data": {
            "text/plain": [
              "156"
            ]
          },
          "execution_count": 12,
          "metadata": {},
          "output_type": "execute_result"
        }
      ],
      "source": [
        "# Parentheses can be applied to specify orders.\n",
        "(2 + 10) * (10 + 3)"
      ]
    },
    {
      "cell_type": "code",
      "execution_count": null,
      "metadata": {
        "id": "Wevv1Z4wIi1u",
        "outputId": "78e5acf0-271e-4cd7-adb7-4f32e9c4cbd6"
      },
      "outputs": [
        {
          "data": {
            "text/plain": [
              "3.3333"
            ]
          },
          "execution_count": 13,
          "metadata": {},
          "output_type": "execute_result"
        }
      ],
      "source": [
        "# Use round (expression, decimal_places) to obtain a rounded result.\n",
        "round(10/3, 4)"
      ]
    },
    {
      "cell_type": "markdown",
      "metadata": {
        "id": "kZjjHPOQIi1v"
      },
      "source": [
        "## NoneType\n",
        "- There is a clear distinction between None and 0.\n",
        "- None has the data type, 'NoneType', and is, therefore, 'not a value' (it can be used as a placeholder before adding values).\n",
        "- Zero (0) is an integer and, therefore, a value.\n",
        "- The data type of a variable can be determined using the type() method:"
      ]
    },
    {
      "cell_type": "code",
      "execution_count": null,
      "metadata": {
        "id": "ncIat8lCIi1v",
        "outputId": "1aa6bc0b-3ad6-42a8-a806-d94a09fbbe0f"
      },
      "outputs": [
        {
          "data": {
            "text/plain": [
              "NoneType"
            ]
          },
          "execution_count": 14,
          "metadata": {},
          "output_type": "execute_result"
        }
      ],
      "source": [
        "type(None)"
      ]
    },
    {
      "cell_type": "code",
      "execution_count": null,
      "metadata": {
        "id": "RiFqlDfTIi1v",
        "outputId": "49706dd9-d6ac-43ac-b757-5f5edd6ba402"
      },
      "outputs": [
        {
          "data": {
            "text/plain": [
              "int"
            ]
          },
          "execution_count": 15,
          "metadata": {},
          "output_type": "execute_result"
        }
      ],
      "source": [
        "type(0)"
      ]
    },
    {
      "cell_type": "code",
      "execution_count": null,
      "metadata": {
        "id": "G6i-QSxmIi1w",
        "outputId": "2d74c2e9-8e1c-4b71-e236-11c77150d027"
      },
      "outputs": [
        {
          "data": {
            "text/plain": [
              "1"
            ]
          },
          "execution_count": 16,
          "metadata": {},
          "output_type": "execute_result"
        }
      ],
      "source": [
        "# 0 + 1 works as they are both numbers.\n",
        "0 + 1"
      ]
    },
    {
      "cell_type": "code",
      "execution_count": null,
      "metadata": {
        "id": "MCuHbBszIi1w",
        "outputId": "73871264-ca59-4f41-86d8-7c0d3cb58445"
      },
      "outputs": [
        {
          "ename": "TypeError",
          "evalue": "unsupported operand type(s) for +: 'NoneType' and 'int'",
          "output_type": "error",
          "traceback": [
            "\u001b[1;31m---------------------------------------------------------------------------\u001b[0m",
            "\u001b[1;31mTypeError\u001b[0m                                 Traceback (most recent call last)",
            "\u001b[1;32mc:\\Users\\admin\\Desktop\\ai-core\\Essentials\\2. Python programming\\1. Python Fundamentals\\2. Numbers\\Notebook.ipynb Cell 21'\u001b[0m in \u001b[0;36m<module>\u001b[1;34m\u001b[0m\n\u001b[0;32m      <a href='vscode-notebook-cell:/c%3A/Users/admin/Desktop/ai-core/Essentials/2.%20Python%20programming/1.%20Python%20Fundamentals/2.%20Numbers/Notebook.ipynb#ch0000026?line=0'>1</a>\u001b[0m \u001b[39m# None + 1 throws an error, as None means there is nothing there\u001b[39;00m\n\u001b[1;32m----> <a href='vscode-notebook-cell:/c%3A/Users/admin/Desktop/ai-core/Essentials/2.%20Python%20programming/1.%20Python%20Fundamentals/2.%20Numbers/Notebook.ipynb#ch0000026?line=1'>2</a>\u001b[0m \u001b[39mNone\u001b[39;49;00m \u001b[39m+\u001b[39;49m \u001b[39m1\u001b[39;49m\n",
            "\u001b[1;31mTypeError\u001b[0m: unsupported operand type(s) for +: 'NoneType' and 'int'"
          ]
        }
      ],
      "source": [
        "# None + 1 throws an error, as None means there is nothing there.\n",
        "None + 1"
      ]
    },
    {
      "cell_type": "markdown",
      "metadata": {
        "id": "4T_ZsPlSIi1w"
      },
      "source": [
        "## Conclusion\n",
        "At this point, we should have a firm understanding of\n",
        "- ints and floats.\n",
        "- None.\n",
        "- how to use python as a calculator.\n",
        "- how to format floats.\n",
        "\n",
        "## Further Reading\n",
        "- Python None: https://docs.python.org/3/c-api/none.html"
      ]
    }
  ],
  "metadata": {
    "kernelspec": {
      "display_name": "base",
      "language": "python",
      "name": "python3"
    },
    "language_info": {
      "codemirror_mode": {
        "name": "ipython",
        "version": 3
      },
      "file_extension": ".py",
      "mimetype": "text/x-python",
      "name": "python",
      "nbconvert_exporter": "python",
      "pygments_lexer": "ipython3",
      "version": "3.9.12 (main, Apr  5 2022, 06:56:58) \n[GCC 7.5.0]"
    },
    "orig_nbformat": 4,
    "vscode": {
      "interpreter": {
        "hash": "a2592652612463181e69ac003232387e3e9a99279aa6b168e76f5df16d5110f4"
      }
    },
    "colab": {
      "provenance": []
    }
  },
  "nbformat": 4,
  "nbformat_minor": 0
}